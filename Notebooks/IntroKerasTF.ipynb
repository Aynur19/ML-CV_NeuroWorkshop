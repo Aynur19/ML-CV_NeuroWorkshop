{
  "nbformat": 4,
  "nbformat_minor": 0,
  "metadata": {
    "celltoolbar": "Slideshow",
    "kernelspec": {
      "name": "python3",
      "display_name": "Python 3",
      "language": "python"
    },
    "language_info": {
      "mimetype": "text/x-python",
      "nbconvert_exporter": "python",
      "name": "python",
      "file_extension": ".py",
      "version": "3.7.4-final",
      "pygments_lexer": "ipython3",
      "codemirror_mode": {
        "version": 3,
        "name": "ipython"
      }
    },
    "livereveal": {
      "start_slideshow_at": "selected"
    },
    "colab": {
      "name": "IntroKerasTF.ipynb",
      "provenance": [],
      "collapsed_sections": []
    }
  },
  "cells": [
    {
      "cell_type": "markdown",
      "metadata": {
        "id": "En2vX4FuwHlu"
      },
      "source": [
        "# Введение в нейронные сети\n",
        "\n",
        "## Эпизод 2а: Многослойный персептрон на TensorFlow и Keras\n",
        "\n",
        "Дмитрий Сошников | dmitri@soshnikov.com"
      ]
    },
    {
      "cell_type": "markdown",
      "metadata": {
        "id": "fVjlmWBwwHl2"
      },
      "source": [
        "## Нейросетевые фреймворки\n",
        "\n",
        "Мы видели, что для обучения нейросетей нужно:\n",
        "* Быстро умножать матрицы (тензоры)\n",
        "* Считать производные для вычисления градиента для метода обратного распространения ошибки\n",
        "\n",
        "Что позволяют делать нейросетевые фреймворки:\n",
        "* Оперировать с тензорами, как на CPU, так и на GPU\n",
        "* Автоматически вычислять производные (они вручную прописаны для всех элементарных функций)\n",
        "\n",
        "Опционально:\n",
        "* Конструктор для нейросетей (описание сети как набора слоёв)\n",
        "* Простые функции для обучения (`fit`, как в Scikit Learn)\n",
        "* Набор алгоритмов оптимизации\n",
        "* Набор абстракций для работы с данными"
      ]
    },
    {
      "cell_type": "markdown",
      "metadata": {
        "id": "8cACQoFMwHl3"
      },
      "source": [
        "## Основные фреймворки\n",
        "\n",
        "* Tensorflow 1.0 - первый, получивший широкое распространение (Google). Позволял определять статический computation graph, и затем в явном виде выполнять вычисления\n",
        "* PyTorch - Facebook\n",
        "* Keras - надстройка над Tensorflow/PyTorch для унификации (Francois Chollet)\n",
        "* Tensorflow 2.0 + Keras - динамический вычислительный граф, код получается похожим на обычные вычисления в numpy\n",
        "\n",
        "Мы рассмотрим Tensorflow 2.0 и Keras. Вам необходимо убедиться, что у вас установлена версия 2.x.x Tensorflow:\n",
        "```\n",
        "pip install tensorflow\n",
        "```\n",
        "или\n",
        "```\n",
        "conda install tensorflow\n",
        "```\n",
        "или выполняйте код в [Google Colab](https://colab.research.google.com/)"
      ]
    },
    {
      "cell_type": "code",
      "metadata": {
        "tags": [],
        "colab": {
          "base_uri": "https://localhost:8080/"
        },
        "id": "xwqVx9-bwHl3",
        "outputId": "3f86a4be-535b-43be-9a6f-c21e9f0d1617"
      },
      "source": [
        "import tensorflow as tf\n",
        "import numpy as np\n",
        "print(tf.__version__)"
      ],
      "execution_count": 3,
      "outputs": [
        {
          "output_type": "stream",
          "text": [
            "2.4.1\n"
          ],
          "name": "stdout"
        }
      ]
    },
    {
      "cell_type": "markdown",
      "metadata": {
        "id": "6tp2xGV7wHl4"
      },
      "source": [
        "## Основные понятия в TensorFlow\n",
        "\n",
        "**Тензор** - это многомерный массив произвольной размерности. Удобно использовать при обучении нейросетей, например:\n",
        "* 400x400 - чёрно-белая картинка\n",
        "* 400x400x3 - цветная картинка\n",
        "* 16x400x400x3 - minibatch из 16 картинок, используемый для одного шага обучения\n",
        "* 25x400x400x3 - секунда видео\n",
        "* 8x25x400x400x3 - minibatch из 8 1-секундных видео"
      ]
    },
    {
      "cell_type": "markdown",
      "metadata": {
        "id": "qG2bsaR7wHl4"
      },
      "source": [
        "### Простые тензоры"
      ]
    },
    {
      "cell_type": "code",
      "metadata": {
        "trusted": true,
        "colab": {
          "base_uri": "https://localhost:8080/"
        },
        "id": "ybpnk08HwHl4",
        "outputId": "ef4b0155-3a3b-441b-9cb4-5384f38b2c85"
      },
      "source": [
        "a = tf.constant([[1,2],[3,4]])\n",
        "print(a)\n",
        "a = tf.random.normal(shape=(10,3))\n",
        "print(a)"
      ],
      "execution_count": 10,
      "outputs": [
        {
          "output_type": "stream",
          "text": [
            "tf.Tensor(\n",
            "[[1 2]\n",
            " [3 4]], shape=(2, 2), dtype=int32)\n",
            "tf.Tensor(\n",
            "[[-0.48909712 -2.0902426   0.31324443]\n",
            " [ 0.13940227  1.0373247   0.05648711]\n",
            " [ 0.13612287  0.50477266 -0.37996805]\n",
            " [-0.6424247   1.7438371   0.36693433]\n",
            " [ 0.8211203   1.4900378  -1.7004877 ]\n",
            " [-0.54276     1.083341    1.7302111 ]\n",
            " [-0.5734967  -0.91023797 -0.32555243]\n",
            " [ 0.79538435 -1.6062161   0.37690175]\n",
            " [ 0.04440005  0.7940934  -1.6089345 ]\n",
            " [ 1.2729654  -0.13130812  0.28587845]], shape=(10, 3), dtype=float32)\n"
          ],
          "name": "stdout"
        }
      ]
    },
    {
      "cell_type": "markdown",
      "metadata": {
        "id": "AXFMsV3r09Ux"
      },
      "source": [
        "С тензорами можно производить обычные вычисления, которые производятся поэлементно (как в numpy). При этом тензоры автоматически дополняются до нужной размерности. Можно извлечь numpy-массив из тензора при помощи `.numpy()`:"
      ]
    },
    {
      "cell_type": "code",
      "metadata": {
        "colab": {
          "base_uri": "https://localhost:8080/"
        },
        "id": "e5Nu5Xgj1DnQ",
        "outputId": "39f4dacb-c34c-4b8c-f6ce-f6bc7dcafa29"
      },
      "source": [
        "print(a-a[0])\r\n",
        "print(tf.exp(a)[0].numpy())"
      ],
      "execution_count": 23,
      "outputs": [
        {
          "output_type": "stream",
          "text": [
            "tf.Tensor(\n",
            "[[ 0.          0.          0.        ]\n",
            " [ 0.6284994   3.1275673  -0.25675732]\n",
            " [ 0.62522     2.5950153  -0.6932125 ]\n",
            " [-0.15332758  3.8340797   0.0536899 ]\n",
            " [ 1.3102174   3.5802803  -2.0137322 ]\n",
            " [-0.0536629   3.1735835   1.4169667 ]\n",
            " [-0.08439958  1.1800046  -0.63879687]\n",
            " [ 1.2844815   0.48402655  0.06365731]\n",
            " [ 0.53349715  2.884336   -1.922179  ]\n",
            " [ 1.7620625   1.9589345  -0.02736598]], shape=(10, 3), dtype=float32)\n",
            "[0.6131798  0.12365713 1.3678558 ]\n"
          ],
          "name": "stdout"
        }
      ]
    },
    {
      "cell_type": "markdown",
      "metadata": {
        "id": "uQ5zN6cVyrG7"
      },
      "source": [
        "## Переменные\r\n",
        "\r\n",
        "Переменные могут содержать какие-то значения, которые мы затем можем модифицировать с помощью методов `assign` и `assign_add`. \r\n",
        "\r\n",
        "Например, вот глупый способ посчитать сумму всех строк тензора `a`"
      ]
    },
    {
      "cell_type": "code",
      "metadata": {
        "colab": {
          "base_uri": "https://localhost:8080/"
        },
        "id": "7pu0UZ-_yqfB",
        "outputId": "69f4f3c0-98b5-4364-d5f3-220c67a1319e"
      },
      "source": [
        "s = tf.Variable(tf.zeros_like(a[0]))\r\n",
        "for i in a:\r\n",
        "  s.assign_add(i)\r\n",
        "\r\n",
        "print(s)"
      ],
      "execution_count": 12,
      "outputs": [
        {
          "output_type": "stream",
          "text": [
            "<tf.Variable 'Variable:0' shape=(3,) dtype=float32, numpy=array([ 0.96161675,  1.9154019 , -0.8852856 ], dtype=float32)>\n"
          ],
          "name": "stdout"
        }
      ]
    },
    {
      "cell_type": "markdown",
      "metadata": {
        "id": "rIh1EHcezlNo"
      },
      "source": [
        "Умный способ:"
      ]
    },
    {
      "cell_type": "code",
      "metadata": {
        "colab": {
          "base_uri": "https://localhost:8080/"
        },
        "id": "aQIdWZ1kzn6P",
        "outputId": "e21dfe9d-aef8-41b7-f471-22b2e34f869b"
      },
      "source": [
        "tf.reduce_sum(a,axis=0)"
      ],
      "execution_count": 19,
      "outputs": [
        {
          "output_type": "execute_result",
          "data": {
            "text/plain": [
              "<tf.Tensor: shape=(3,), dtype=float32, numpy=array([ 0.96161675,  1.9154019 , -0.8852856 ], dtype=float32)>"
            ]
          },
          "metadata": {
            "tags": []
          },
          "execution_count": 19
        }
      ]
    },
    {
      "cell_type": "markdown",
      "metadata": {
        "id": "U-auwezDwHl6"
      },
      "source": [
        "## Вычисляем производные\r\n",
        "\r\n",
        "Для обратного распространения ошибки, нам нужно уметь вычислять градиенты. Это делается с помощью `tf.GradientTape()`:\r\n",
        " * Оборачиваем интересующие нас вычисления в `with tf.GradientTape`\r\n",
        " * Помечаем интересующие нас тензоры вызовом `tape.watch` (переменные отслеживаются автоматически)\r\n",
        " * Проводим вычисления\r\n",
        " * Получаем градиенты через `tape.gradient` "
      ]
    },
    {
      "cell_type": "code",
      "metadata": {
        "trusted": true,
        "colab": {
          "base_uri": "https://localhost:8080/"
        },
        "id": "m8vFOXr7wHl6",
        "outputId": "aacf0a18-0a45-47ee-b07e-a2195a607905"
      },
      "source": [
        "a = tf.random.normal(shape=(2, 2))\n",
        "b = tf.random.normal(shape=(2, 2))\n",
        "\n",
        "with tf.GradientTape() as tape:\n",
        "  tape.watch(a)  # Start recording the history of operations applied to `a`\n",
        "  c = tf.sqrt(tf.square(a) + tf.square(b))  # Do some math using `a`\n",
        "  # What's the gradient of `c` with respect to `a`?\n",
        "  dc_da = tape.gradient(c, a)\n",
        "  print(dc_da)"
      ],
      "execution_count": 24,
      "outputs": [
        {
          "output_type": "stream",
          "text": [
            "tf.Tensor(\n",
            "[[ 0.80395013  0.26261166]\n",
            " [-0.8795084   0.5610212 ]], shape=(2, 2), dtype=float32)\n"
          ],
          "name": "stdout"
        }
      ]
    },
    {
      "cell_type": "code",
      "metadata": {
        "trusted": true,
        "id": "bQ9JlKb5wHl6",
        "outputId": "ebbd4d2a-a9d2-4bf3-effc-70c8aca1b7b6"
      },
      "source": [
        "a = tf.constant(2.0)\n",
        "b = tf.placeholder(tf.float32)\n",
        "c = a + b\n",
        "session.run(c,feed_dict={b:3})"
      ],
      "execution_count": null,
      "outputs": [
        {
          "output_type": "execute_result",
          "data": {
            "text/plain": [
              "5.0"
            ]
          },
          "metadata": {
            "tags": []
          },
          "execution_count": 3
        }
      ]
    },
    {
      "cell_type": "markdown",
      "metadata": {
        "id": "8sfjBMBu59B5"
      },
      "source": [
        "## Пример 1: Линейная регрессия\r\n",
        "\r\n",
        "Попробуем с помощью полученных знаний решить классическую задачу линейной регрессии. Для этого сгенерируем небольшой синтетический датасет:"
      ]
    },
    {
      "cell_type": "code",
      "metadata": {
        "trusted": true,
        "id": "j723455WwHl7"
      },
      "source": [
        "import matplotlib.pyplot as plt\n",
        "from sklearn.datasets import make_classification, make_regression\n",
        "from sklearn.model_selection import train_test_split\n",
        "import random"
      ],
      "execution_count": 25,
      "outputs": []
    },
    {
      "cell_type": "code",
      "metadata": {
        "colab": {
          "base_uri": "https://localhost:8080/",
          "height": 282
        },
        "id": "WJNK_J6v6I-Z",
        "outputId": "33a6bca7-e236-4463-8856-ff83939ed615"
      },
      "source": [
        "np.random.seed(13) # pick the seed for reproducability - change it to explore the effects of random variations\r\n",
        "\r\n",
        "train_x = np.linspace(0, 3, 120)\r\n",
        "train_labels = 2 * train_x + 0.9 + np.random.randn(*train_x.shape) * 0.5\r\n",
        "\r\n",
        "plt.scatter(train_x,train_labels)"
      ],
      "execution_count": 108,
      "outputs": [
        {
          "output_type": "execute_result",
          "data": {
            "text/plain": [
              "<matplotlib.collections.PathCollection at 0x7f859755db10>"
            ]
          },
          "metadata": {
            "tags": []
          },
          "execution_count": 108
        },
        {
          "output_type": "display_data",
          "data": {
            "image/png": "[encoded data removed]",
            "text/plain": [
              "<Figure size 432x288 with 1 Axes>"
            ]
          },
          "metadata": {
            "tags": [],
            "needs_background": "light"
          }
        }
      ]
    },
    {
      "cell_type": "markdown",
      "metadata": {
        "id": "Ng4rZmGc6oxk"
      },
      "source": [
        "Линейная регрессия вычисляется как $f_{W,b}(x) = Wx+b$, где $W, b$ - параметры модели, которые необходимо найти. Функция ошибки на наборе данных $\\{x_i,y_u\\}_{i=1}^N$ может быть определена как среднеевадратичное отклонение\r\n",
        "$$\r\n",
        "\\mathcal{L}(W,b) = {1\\over N}\\sum_{i=1}^N (f_{W,b}(x_i)-y_i)^2\r\n",
        "$$\r\n",
        "\r\n",
        "Опишем модель и функцию ошибки:"
      ]
    },
    {
      "cell_type": "code",
      "metadata": {
        "id": "QxhI4GlB6aiH"
      },
      "source": [
        "input_dim = 1\r\n",
        "output_dim = 1\r\n",
        "learning_rate = 0.1\r\n",
        "\r\n",
        "# This is our weight matrix\r\n",
        "w = tf.Variable([[100.0]])\r\n",
        "# This is our bias vector\r\n",
        "b = tf.Variable(tf.zeros(shape=(output_dim,)))\r\n",
        "\r\n",
        "def f(x):\r\n",
        "  return tf.matmul(x,w) + b\r\n",
        "\r\n",
        "def compute_loss(labels, predictions):\r\n",
        "  return tf.reduce_mean(tf.square(labels - predictions))"
      ],
      "execution_count": 155,
      "outputs": []
    },
    {
      "cell_type": "markdown",
      "metadata": {
        "id": "JUxwj3367gD2"
      },
      "source": [
        "Обучать модель будем на сериях примеров - minibatches. Для обучения используем градиентный спуск, подстраивая парметры в соответствии с формулой:\r\n",
        "$$\r\n",
        "\\begin{array}{l}\r\n",
        "W^{(n+1)}=W^{(n)}-\\eta\\frac{\\partial\\mathcal{L}}{\\partial W} \\\\\r\n",
        "b^{(n+1)}=b^{(n)}-\\eta\\frac{\\partial\\mathcal{L}}{\\partial b} \\\\\r\n",
        "\\end{array}\r\n",
        "$$"
      ]
    },
    {
      "cell_type": "code",
      "metadata": {
        "id": "-991PErM7fJU"
      },
      "source": [
        "def train_on_batch(x, y):\r\n",
        "  with tf.GradientTape() as tape:\r\n",
        "    predictions = f(x)\r\n",
        "    loss = compute_loss(y, predictions)\r\n",
        "    # Note that `tape.gradient` works with a list as well (w, b).\r\n",
        "    dloss_dw, dloss_db = tape.gradient(loss, [w, b])\r\n",
        "  w.assign_sub(learning_rate * dloss_dw)\r\n",
        "  b.assign_sub(learning_rate * dloss_db)\r\n",
        "  return loss"
      ],
      "execution_count": 156,
      "outputs": []
    },
    {
      "cell_type": "markdown",
      "metadata": {
        "id": "idr2VEWb9rr0"
      },
      "source": [
        "Теперь приступаем к обучению: делаем несколько проходов по всему датасету (эпох), разбиваем его на minibatches, и вызываем функцию обучения:"
      ]
    },
    {
      "cell_type": "code",
      "metadata": {
        "id": "nOuu0qpx-wAp"
      },
      "source": [
        "# Shuffle the data.\r\n",
        "indices = np.random.permutation(len(train_x))\r\n",
        "features = tf.constant(train_x[indices],dtype=tf.float32)\r\n",
        "labels = tf.constant(train_labels[indices],dtype=tf.float32)"
      ],
      "execution_count": 157,
      "outputs": []
    },
    {
      "cell_type": "code",
      "metadata": {
        "colab": {
          "base_uri": "https://localhost:8080/"
        },
        "id": "3zdIf6c_85Ht",
        "outputId": "37d7a77a-3757-41ce-b887-01611d848fd2"
      },
      "source": [
        "batch_size = 4\r\n",
        "for epoch in range(10):\r\n",
        "  for i in range(0,len(features),batch_size):\r\n",
        "    loss = train_on_batch(tf.reshape(features[i:i+batch_size],(-1,1)),tf.reshape(labels[i:i+batch_size],(-1,1)))\r\n",
        "  print('Epoch %d: last batch loss = %.4f' % (epoch, float(loss)))"
      ],
      "execution_count": 158,
      "outputs": [
        {
          "output_type": "stream",
          "text": [
            "Epoch 0: last batch loss = 25.8437\n",
            "Epoch 1: last batch loss = 2.7339\n",
            "Epoch 2: last batch loss = 0.8117\n",
            "Epoch 3: last batch loss = 0.6134\n",
            "Epoch 4: last batch loss = 0.5835\n",
            "Epoch 5: last batch loss = 0.5772\n",
            "Epoch 6: last batch loss = 0.5756\n",
            "Epoch 7: last batch loss = 0.5752\n",
            "Epoch 8: last batch loss = 0.5750\n",
            "Epoch 9: last batch loss = 0.5750\n"
          ],
          "name": "stdout"
        }
      ]
    },
    {
      "cell_type": "code",
      "metadata": {
        "colab": {
          "base_uri": "https://localhost:8080/"
        },
        "id": "US6q0nCBD-LL",
        "outputId": "f6da47ad-4e0e-463e-d0c5-208a42a38f35"
      },
      "source": [
        "w,b"
      ],
      "execution_count": 161,
      "outputs": [
        {
          "output_type": "execute_result",
          "data": {
            "text/plain": [
              "(<tf.Variable 'Variable:0' shape=(1, 1) dtype=float32, numpy=array([[1.8223488]], dtype=float32)>,\n",
              " <tf.Variable 'Variable:0' shape=(1,) dtype=float32, numpy=array([0.9938898], dtype=float32)>)"
            ]
          },
          "metadata": {
            "tags": []
          },
          "execution_count": 161
        }
      ]
    },
    {
      "cell_type": "code",
      "metadata": {
        "colab": {
          "base_uri": "https://localhost:8080/",
          "height": 282
        },
        "id": "_e6xRMZFDnyI",
        "outputId": "7b522730-0c25-4618-c840-ca7ea475a013"
      },
      "source": [
        "plt.scatter(train_x,train_labels)\r\n",
        "x = np.array([min(train_x),max(train_x)])\r\n",
        "y = w.numpy()[0,0]*x+b.numpy()[0]\r\n",
        "plt.plot(x,y)"
      ],
      "execution_count": 160,
      "outputs": [
        {
          "output_type": "execute_result",
          "data": {
            "text/plain": [
              "[<matplotlib.lines.Line2D at 0x7f8596d258d0>]"
            ]
          },
          "metadata": {
            "tags": []
          },
          "execution_count": 160
        },
        {
          "output_type": "display_data",
          "data": {
            "image/png": "[encoded data removed]",
            "text/plain": [
              "<Figure size 432x288 with 1 Axes>"
            ]
          },
          "metadata": {
            "tags": [],
            "needs_background": "light"
          }
        }
      ]
    },
    {
      "cell_type": "markdown",
      "metadata": {
        "id": "0giuwC9GHzi8"
      },
      "source": [
        "## Вычислительный граф\r\n",
        "\r\n",
        "Для проведения вычислений Tensorflow строит внутри себя вычислительный граф, который, в т.ч., может вычисляться на GPU. Однако в нашем случае, поскольку мы использовали пользовательские Python-функции, они не включались в вычислительный граф, и при вычислениях на GPU производилась бы передача данных между GPU и CPU и обратно.\r\n",
        "\r\n",
        "Для ускорения высчислений и построения единого статического графа, необходимо отметить все функции соответствующим декоратором:"
      ]
    },
    {
      "cell_type": "code",
      "metadata": {
        "id": "HK7HPLz3Hyrl"
      },
      "source": [
        "@tf.function\r\n",
        "def train_on_batch(x, y):\r\n",
        "  with tf.GradientTape() as tape:\r\n",
        "    predictions = f(x)\r\n",
        "    loss = compute_loss(y, predictions)\r\n",
        "    # Note that `tape.gradient` works with a list as well (w, b).\r\n",
        "    dloss_dw, dloss_db = tape.gradient(loss, [w, b])\r\n",
        "  w.assign_sub(learning_rate * dloss_dw)\r\n",
        "  b.assign_sub(learning_rate * dloss_db)\r\n",
        "  return loss"
      ],
      "execution_count": 168,
      "outputs": []
    },
    {
      "cell_type": "markdown",
      "metadata": {
        "id": "J7HusxWkGjLX"
      },
      "source": [
        "## Dataset API\r\n",
        "\r\n",
        "Для работы с данными в Tensorflow присутствует удобное API, которым мы в данном случае можем воспользоваться:"
      ]
    },
    {
      "cell_type": "code",
      "metadata": {
        "colab": {
          "base_uri": "https://localhost:8080/"
        },
        "id": "oYro9Lbr8q0M",
        "outputId": "bf1d1bba-4ddf-44cb-de30-63ac9b1d7c4a"
      },
      "source": [
        "w.assign([[10.0]])\r\n",
        "b.assign([0.0])\r\n",
        "\r\n",
        "# Create a tf.data.Dataset object for easy batched iteration\r\n",
        "dataset = tf.data.Dataset.from_tensor_slices((train_x.astype(np.float32), train_labels.astype(np.float32)))\r\n",
        "dataset = dataset.shuffle(buffer_size=1024).batch(256)\r\n",
        "\r\n",
        "for epoch in range(10):\r\n",
        "  for step, (x, y) in enumerate(dataset):\r\n",
        "    loss = train_on_batch(tf.reshape(x,(-1,1)), tf.reshape(y,(-1,1)))\r\n",
        "  print('Epoch %d: last batch loss = %.4f' % (epoch, float(loss)))"
      ],
      "execution_count": 169,
      "outputs": [
        {
          "output_type": "stream",
          "text": [
            "Epoch 0: last batch loss = 173.4585\n",
            "Epoch 1: last batch loss = 13.8459\n",
            "Epoch 2: last batch loss = 4.5407\n",
            "Epoch 3: last batch loss = 3.7364\n",
            "Epoch 4: last batch loss = 3.4334\n",
            "Epoch 5: last batch loss = 3.1790\n",
            "Epoch 6: last batch loss = 2.9458\n",
            "Epoch 7: last batch loss = 2.7311\n",
            "Epoch 8: last batch loss = 2.5332\n",
            "Epoch 9: last batch loss = 2.3508\n"
          ],
          "name": "stdout"
        }
      ]
    },
    {
      "cell_type": "markdown",
      "metadata": {
        "id": "A10prCPowHl7"
      },
      "source": [
        "## Пример\n",
        "Рассмотрим пример двухмерной задачи классификации на 2 класса. Примером такой задачи может быть классификация опухоли на 2 типа - доброкачественная и злокачественная, в зависимости от её размера и возраста.\n",
        "\n",
        "Сгенерируем тестовые данные случайным образом:\n"
      ]
    },
    {
      "cell_type": "code",
      "metadata": {
        "scrolled": false,
        "trusted": true,
        "id": "j0OTPkGpwHl7"
      },
      "source": [
        "np.random.seed(0) # pick the seed for reproducability - change it to explore the effects of random variations\n",
        "\n",
        "n = 100\n",
        "X, Y = make_classification(n_samples = n, n_features=2,\n",
        "                           n_redundant=0, n_informative=2, flip_y=0.2,class_sep=1)\n",
        "X = X.astype(np.float32)\n",
        "Y = Y.astype(np.int32)\n",
        "\n",
        "split = [ 70*n//100, (15+70)*n//100 ]\n",
        "train_x, valid_x, test_x = np.split(X, split)\n",
        "train_labels, valid_labels, test_labels = np.split(Y, split)"
      ],
      "execution_count": 313,
      "outputs": []
    },
    {
      "cell_type": "code",
      "metadata": {
        "scrolled": false,
        "trusted": true,
        "id": "c-_BjSHPwHl8"
      },
      "source": [
        "def plot_dataset(features, labels, W=None, b=None):\n",
        "    # prepare the plot\n",
        "    fig, ax = plt.subplots(1, 1)\n",
        "    ax.set_xlabel('$x_i[0]$ -- (feature 1)')\n",
        "    ax.set_ylabel('$x_i[1]$ -- (feature 2)')\n",
        "    colors = ['r' if l else 'b' for l in labels]\n",
        "    ax.scatter(features[:, 0], features[:, 1], marker='o', c=colors, s=100, alpha = 0.5)\n",
        "    if W is not None:\n",
        "        min_x = min(features[:,0])\n",
        "        max_x = max(features[:,1])\n",
        "        min_y = min(features[:,1])*(1-.1)\n",
        "        max_y = max(features[:,1])*(1+.1)\n",
        "        cx = np.array([min_x,max_x],dtype=np.float32)\n",
        "        cy = (0.5-W[0]*cx-b)/W[1]\n",
        "        ax.plot(cx,cy,'g')\n",
        "        ax.set_ylim(min_y,max_y)\n",
        "    fig.show()"
      ],
      "execution_count": 314,
      "outputs": []
    },
    {
      "cell_type": "code",
      "metadata": {
        "scrolled": false,
        "trusted": true,
        "colab": {
          "base_uri": "https://localhost:8080/",
          "height": 283
        },
        "id": "tq0vFchQwHl8",
        "outputId": "35fe9aaf-b476-49ca-8044-9a667e0ab272"
      },
      "source": [
        "plot_dataset(train_x, train_labels)"
      ],
      "execution_count": 315,
      "outputs": [
        {
          "output_type": "display_data",
          "data": {
            "image/png": "[encoded data removed]",
            "text/plain": [
              "<Figure size 432x288 with 1 Axes>"
            ]
          },
          "metadata": {
            "tags": [],
            "needs_background": "light"
          }
        }
      ]
    },
    {
      "cell_type": "markdown",
      "metadata": {
        "id": "SjPlpf2-wHl8"
      },
      "source": [
        "## Обучение простейшего одноуровневого персептрона вручную\r\n",
        "\r\n",
        "Используем возможности tensorflow по вычислению градиента для обучения одноуровневого персептрона.\r\n",
        "\r\n",
        "Для начала, задаём архитектуру сети, в которой будет 2 входа и один выход. Соответственно, матрица весов $W$ будет иметь размерность $2\\times1$, а вектор сдвига $b$ -- $1$.\r\n",
        "\r\n",
        "Функция обучение будет такая же, как в прошлом примере, но функция ошибки будет представлять собой логистическую функцию ошибки. Для этого нам нужно получить на выходе сети значение **вероятности** класса 1, т.е. необходимо привести выход сети $z$ к диапазону [0,1] с помощью передаточной функции `sigmoid`: $p=\\sigma(z)$.\r\n",
        "Далее, если для примера с номером класса $y_i\\in\\{0,1\\}$ был получен выход сети $p_i$, то ошибка вычисляется как $\\mathcal{L_i}=-y_i\\log p_i + (1-y_i)log(1-p_i)$. \r\n",
        "\r\n",
        "В Tensorflow оба эти этапа (применение сигмоиды и взятие логистической функции ошибки) делается одним вызовом `sigmoid_cross_entropy_with_logits`. Поскольку мы делаем обучение по минибатчам, то необходимо усреднить ошибку по всем компонентам минибатча с помощью `reduce_mean`. "
      ]
    },
    {
      "cell_type": "code",
      "metadata": {
        "trusted": true,
        "id": "kdDxWeCqwHl8"
      },
      "source": [
        "W = tf.Variable(tf.random.normal(shape=(2,1)))\n",
        "b = tf.Variable(tf.zeros(shape=(1,),dtype=tf.float32))\n",
        "\n",
        "learning_rate = 0.1\n",
        "\n",
        "@tf.function\n",
        "def train_on_batch(x, y):\n",
        "  with tf.GradientTape() as tape:\n",
        "    z = tf.matmul(x, W) + b\n",
        "    loss = tf.reduce_mean(tf.nn.sigmoid_cross_entropy_with_logits(labels=y,logits=z))\n",
        "    dloss_dw, dloss_db = tape.gradient(loss, [W, b])\n",
        "  W.assign_sub(learning_rate * dloss_dw)\n",
        "  b.assign_sub(learning_rate * dloss_db)\n",
        "  return loss"
      ],
      "execution_count": 228,
      "outputs": []
    },
    {
      "cell_type": "markdown",
      "metadata": {
        "id": "zAAgw0h6KzUd"
      },
      "source": [
        "Далее, разбиваем входные данные на минибатчи по 16 элементов, и по-очереди проводим обучение, подстраивая веса $W$ и $b$"
      ]
    },
    {
      "cell_type": "code",
      "metadata": {
        "trusted": true,
        "colab": {
          "base_uri": "https://localhost:8080/"
        },
        "id": "PfyqjVb2wHl8",
        "outputId": "800838a6-64cd-487f-dd52-56aef420c096"
      },
      "source": [
        "# Create a tf.data.Dataset object for easy batched iteration\n",
        "dataset = tf.data.Dataset.from_tensor_slices((train_x, train_labels.astype(np.float32)))\n",
        "dataset = dataset.batch(16)\n",
        "\n",
        "for epoch in range(15):\n",
        "  for step, (x, y) in enumerate(dataset):\n",
        "    loss = train_on_batch(tf.reshape(x,(-1,2)), tf.reshape(y,(-1,1)))\n",
        "  print('Epoch %d: last batch loss = %.4f' % (epoch, float(loss)))"
      ],
      "execution_count": 229,
      "outputs": [
        {
          "output_type": "stream",
          "text": [
            "Epoch 0: last batch loss = 0.7060\n",
            "Epoch 1: last batch loss = 0.6271\n",
            "Epoch 2: last batch loss = 0.5706\n",
            "Epoch 3: last batch loss = 0.5304\n",
            "Epoch 4: last batch loss = 0.5018\n",
            "Epoch 5: last batch loss = 0.4814\n",
            "Epoch 6: last batch loss = 0.4668\n",
            "Epoch 7: last batch loss = 0.4562\n",
            "Epoch 8: last batch loss = 0.4485\n",
            "Epoch 9: last batch loss = 0.4430\n",
            "Epoch 10: last batch loss = 0.4389\n",
            "Epoch 11: last batch loss = 0.4359\n",
            "Epoch 12: last batch loss = 0.4338\n",
            "Epoch 13: last batch loss = 0.4323\n",
            "Epoch 14: last batch loss = 0.4313\n"
          ],
          "name": "stdout"
        }
      ]
    },
    {
      "cell_type": "markdown",
      "metadata": {
        "id": "s4_Atvn5K4K9"
      },
      "source": [
        "Для демонстрации того, как сработало обучение, построим граничную прямую $W\\times x + b = 0.5$"
      ]
    },
    {
      "cell_type": "code",
      "metadata": {
        "trusted": true,
        "colab": {
          "base_uri": "https://localhost:8080/",
          "height": 283
        },
        "id": "PgRTHttLwHl9",
        "outputId": "3656ebd5-a4f0-4acf-c5a0-389f2283582b"
      },
      "source": [
        "plot_dataset(train_x,train_labels,W.numpy(),b.numpy())"
      ],
      "execution_count": 230,
      "outputs": [
        {
          "output_type": "display_data",
          "data": {
            "image/png": "[encoded data removed]",
            "text/plain": [
              "<Figure size 432x288 with 1 Axes>"
            ]
          },
          "metadata": {
            "tags": [],
            "needs_background": "light"
          }
        }
      ]
    },
    {
      "cell_type": "code",
      "metadata": {
        "colab": {
          "base_uri": "https://localhost:8080/",
          "height": 282
        },
        "id": "oEQswfCGrmHw",
        "outputId": "da4a8be4-1b5d-4fee-fc0e-4db2cd33a3a1"
      },
      "source": [
        "pred = tf.matmul(valid_x,W)+b\r\n",
        "fig,ax = plt.subplots(1,2)\r\n",
        "ax[0].scatter(valid_x[:,0],valid_x[:,1],c=pred[:,0]>0.5)\r\n",
        "ax[1].scatter(valid_x[:,0],valid_x[:,1],c=valid_labels)"
      ],
      "execution_count": 252,
      "outputs": [
        {
          "output_type": "execute_result",
          "data": {
            "text/plain": [
              "<matplotlib.collections.PathCollection at 0x7f85953bdd10>"
            ]
          },
          "metadata": {
            "tags": []
          },
          "execution_count": 252
        },
        {
          "output_type": "display_data",
          "data": {
            "image/png": "[encoded data removed]",
            "text/plain": [
              "<Figure size 432x288 with 2 Axes>"
            ]
          },
          "metadata": {
            "tags": [],
            "needs_background": "light"
          }
        }
      ]
    },
    {
      "cell_type": "code",
      "metadata": {
        "colab": {
          "base_uri": "https://localhost:8080/"
        },
        "id": "HUjdeIefsIsg",
        "outputId": "c81a9490-7538-484b-dcaa-04515c890b22"
      },
      "source": [
        "tf.reduce_mean(tf.cast(((pred[0]>0.5)==valid_labels),tf.float32))"
      ],
      "execution_count": 269,
      "outputs": [
        {
          "output_type": "execute_result",
          "data": {
            "text/plain": [
              "<tf.Tensor: shape=(), dtype=float32, numpy=0.46666667>"
            ]
          },
          "metadata": {
            "tags": []
          },
          "execution_count": 269
        }
      ]
    },
    {
      "cell_type": "markdown",
      "metadata": {
        "id": "_95qF9lY2kHp"
      },
      "source": [
        "## Используем оптимизаторы TensorFlow\r\n",
        "\r\n",
        "Tensorflow достаточно плотно интегрирован с библиотекой Keras, которая содержит в себе множество полезного. Например, мы можем использовать оптимизаторы, реализующие немного другие алгоритмы обучения, чем градиентный спуск.\r\n",
        "\r\n",
        "Также попробуем выводить точность на всех этапах обучения."
      ]
    },
    {
      "cell_type": "code",
      "metadata": {
        "colab": {
          "base_uri": "https://localhost:8080/"
        },
        "id": "ups7nlV22ofp",
        "outputId": "f5383a02-d552-414b-eed5-2319bc62235f"
      },
      "source": [
        "optimizer = tf.keras.optimizers.Adam(0.01)\r\n",
        "\r\n",
        "learning_rate = 0.05\r\n",
        "\r\n",
        "W = tf.Variable(tf.random.normal(shape=(2,1)))\r\n",
        "b = tf.Variable(tf.zeros(shape=(1,),dtype=tf.float32))\r\n",
        "\r\n",
        "@tf.function\r\n",
        "def train_on_batch(x, y):\r\n",
        "  vars = [W, b]\r\n",
        "  with tf.GradientTape() as tape:\r\n",
        "    z = tf.sigmoid(tf.matmul(x, W) + b)\r\n",
        "    loss = tf.reduce_mean(tf.keras.losses.binary_crossentropy(z,y))\r\n",
        "    correct_prediction = tf.equal(tf.round(y), tf.round(z))\r\n",
        "    acc = tf.reduce_mean(tf.cast(correct_prediction, tf.float32))\r\n",
        "    grads = tape.gradient(loss, vars)\r\n",
        "    optimizer.apply_gradients(zip(grads,vars))\r\n",
        "  return loss,acc\r\n",
        "\r\n",
        "for epoch in range(40):\r\n",
        "  for step, (x, y) in enumerate(dataset):\r\n",
        "    loss,acc = train_on_batch(tf.reshape(x,(-1,2)), tf.reshape(y,(-1,1)))\r\n",
        "  print('Epoch %d: last batch loss = %.4f, acc = %.4f' % (epoch, float(loss),acc))"
      ],
      "execution_count": 311,
      "outputs": [
        {
          "output_type": "stream",
          "text": [
            "Epoch 0: last batch loss = 10.5965, acc = 0.1667\n",
            "Epoch 1: last batch loss = 10.4798, acc = 0.1667\n",
            "Epoch 2: last batch loss = 10.3554, acc = 0.1667\n",
            "Epoch 3: last batch loss = 10.2228, acc = 0.1667\n",
            "Epoch 4: last batch loss = 10.0817, acc = 0.1667\n",
            "Epoch 5: last batch loss = 9.9320, acc = 0.1667\n",
            "Epoch 6: last batch loss = 9.7742, acc = 0.1667\n",
            "Epoch 7: last batch loss = 9.6087, acc = 0.1667\n",
            "Epoch 8: last batch loss = 9.4364, acc = 0.1667\n",
            "Epoch 9: last batch loss = 9.2584, acc = 0.3333\n",
            "Epoch 10: last batch loss = 9.0760, acc = 0.1667\n",
            "Epoch 11: last batch loss = 8.8906, acc = 0.1667\n",
            "Epoch 12: last batch loss = 8.7036, acc = 0.1667\n",
            "Epoch 13: last batch loss = 8.5164, acc = 0.1667\n",
            "Epoch 14: last batch loss = 8.3302, acc = 0.1667\n",
            "Epoch 15: last batch loss = 8.1461, acc = 0.1667\n",
            "Epoch 16: last batch loss = 7.9649, acc = 0.1667\n",
            "Epoch 17: last batch loss = 7.7872, acc = 0.1667\n",
            "Epoch 18: last batch loss = 7.6135, acc = 0.1667\n",
            "Epoch 19: last batch loss = 7.4440, acc = 0.3333\n",
            "Epoch 20: last batch loss = 7.2788, acc = 0.6667\n",
            "Epoch 21: last batch loss = 7.1178, acc = 0.8333\n",
            "Epoch 22: last batch loss = 6.9611, acc = 0.8333\n",
            "Epoch 23: last batch loss = 6.8085, acc = 0.8333\n",
            "Epoch 24: last batch loss = 6.6600, acc = 0.8333\n",
            "Epoch 25: last batch loss = 6.5157, acc = 0.8333\n",
            "Epoch 26: last batch loss = 6.3756, acc = 0.8333\n",
            "Epoch 27: last batch loss = 6.2397, acc = 0.8333\n",
            "Epoch 28: last batch loss = 6.1081, acc = 0.8333\n",
            "Epoch 29: last batch loss = 5.9811, acc = 0.8333\n",
            "Epoch 30: last batch loss = 5.8586, acc = 0.8333\n",
            "Epoch 31: last batch loss = 5.7408, acc = 0.8333\n",
            "Epoch 32: last batch loss = 5.6277, acc = 0.8333\n",
            "Epoch 33: last batch loss = 5.5194, acc = 0.8333\n",
            "Epoch 34: last batch loss = 5.4160, acc = 0.8333\n",
            "Epoch 35: last batch loss = 5.3174, acc = 0.8333\n",
            "Epoch 36: last batch loss = 5.2237, acc = 0.8333\n",
            "Epoch 37: last batch loss = 5.1351, acc = 0.8333\n",
            "Epoch 38: last batch loss = 5.0514, acc = 0.8333\n",
            "Epoch 39: last batch loss = 4.9727, acc = 0.8333\n"
          ],
          "name": "stdout"
        }
      ]
    },
    {
      "cell_type": "markdown",
      "metadata": {
        "id": "dvAiaj_JndyP"
      },
      "source": [
        "**Задание 1**: Постройте графики ошибок на обучающей и тестовой выборке в процессе обучения\r\n",
        "\r\n",
        "**Задание 2**: Попробуйте решить задачу классификации на датасете MNIST с помощью этого кода. Подсказка: используйте `softmax_crossentropy_with_logits` или `sparse_softmax_cross_entropy_with_logits` в качестве функции ошибки. При этом в первом случае на выход сети необходимо подавать целевые значения в формате *one hot encoding*, а во втором - в виде целочисленного номера класса."
      ]
    },
    {
      "cell_type": "markdown",
      "metadata": {
        "id": "995iCprDrgYQ"
      },
      "source": [
        "## Keras\r\n",
        "### Deep Learning for Humans\r\n",
        "\r\n",
        "* Раньше работал поверх Tensorflow, CNTK или Theano, сейчас включен в состав Tensorflow\r\n",
        "* Оперирует нейросетями на уровне слоёв\r\n",
        "* Включает упрощённый \"обучатель\", средства работы с типовыми данными (картинками, ...)\r\n",
        "* Много готовых примеров\r\n",
        "* Functional API vs. Sequential API\r\n",
        "\r\n",
        "Keras даёт более высокоуровневое API для реализации нейросетей, позволяя определять нейросети как комбинации слоёв и оперировать понятиями \"модель\", \"слой\", \"алгоритм обучения\".\r\n",
        "\r\n",
        "Книжка от создателя Keras: [Deep Learning with Python](https://www.manning.com/books/deep-learning-with-python)"
      ]
    },
    {
      "cell_type": "code",
      "metadata": {
        "colab": {
          "base_uri": "https://localhost:8080/"
        },
        "id": "1_ENSNaZ7C2I",
        "outputId": "18979e39-dd68-4194-e061-d38982498404"
      },
      "source": [
        "train_labels"
      ],
      "execution_count": 316,
      "outputs": [
        {
          "output_type": "execute_result",
          "data": {
            "text/plain": [
              "array([1, 1, 0, 0, 0, 0, 1, 0, 0, 1, 0, 1, 0, 0, 0, 0, 0, 0, 1, 0, 1, 1,\n",
              "       0, 0, 1, 1, 0, 1, 1, 0, 1, 1, 1, 0, 0, 1, 0, 1, 1, 1, 1, 1, 1, 1,\n",
              "       0, 0, 1, 0, 1, 1, 1, 0, 0, 0, 0, 1, 0, 0, 1, 1, 1, 1, 1, 0, 0, 0,\n",
              "       1, 0, 0, 1], dtype=int32)"
            ]
          },
          "metadata": {
            "tags": []
          },
          "execution_count": 316
        }
      ]
    },
    {
      "cell_type": "code",
      "metadata": {
        "colab": {
          "base_uri": "https://localhost:8080/"
        },
        "id": "QJWplVfy34Eo",
        "outputId": "8a6b5206-607c-4f74-9959-5b9baa07c727"
      },
      "source": [
        "inputs = tf.keras.Input(shape=(2,))\r\n",
        "z = tf.keras.layers.Dense(1,kernel_initializer='glorot_uniform',activation='sigmoid')(inputs)\r\n",
        "model = tf.keras.models.Model(inputs,z)\r\n",
        "train_x_norm = train_x-np.min(train_x) / (np.max(train_x)-np.min(train_x))\r\n",
        "model.compile(tf.keras.optimizers.Adam(0.1),'binary_crossentropy',['accuracy'])\r\n",
        "model.summary()\r\n",
        "model.fit(train_x_norm,train_labels,batch_size=8,epochs=15)"
      ],
      "execution_count": 336,
      "outputs": [
        {
          "output_type": "stream",
          "text": [
            "Model: \"model_49\"\n",
            "_________________________________________________________________\n",
            "Layer (type)                 Output Shape              Param #   \n",
            "=================================================================\n",
            "input_50 (InputLayer)        [(None, 2)]               0         \n",
            "_________________________________________________________________\n",
            "dense_70 (Dense)             (None, 1)                 3         \n",
            "=================================================================\n",
            "Total params: 3\n",
            "Trainable params: 3\n",
            "Non-trainable params: 0\n",
            "_________________________________________________________________\n",
            "Epoch 1/15\n",
            "9/9 [==============================] - 0s 1ms/step - loss: 1.2161 - accuracy: 0.2724\n",
            "Epoch 2/15\n",
            "9/9 [==============================] - 0s 1ms/step - loss: 0.6994 - accuracy: 0.5658\n",
            "Epoch 3/15\n",
            "9/9 [==============================] - 0s 2ms/step - loss: 0.5212 - accuracy: 0.7799\n",
            "Epoch 4/15\n",
            "9/9 [==============================] - 0s 1ms/step - loss: 0.4479 - accuracy: 0.8545\n",
            "Epoch 5/15\n",
            "9/9 [==============================] - 0s 1ms/step - loss: 0.4293 - accuracy: 0.8194\n",
            "Epoch 6/15\n",
            "9/9 [==============================] - 0s 1ms/step - loss: 0.4575 - accuracy: 0.8137\n",
            "Epoch 7/15\n",
            "9/9 [==============================] - 0s 1ms/step - loss: 0.3988 - accuracy: 0.8625\n",
            "Epoch 8/15\n",
            "9/9 [==============================] - 0s 1ms/step - loss: 0.4304 - accuracy: 0.8659\n",
            "Epoch 9/15\n",
            "9/9 [==============================] - 0s 1ms/step - loss: 0.4100 - accuracy: 0.8813\n",
            "Epoch 10/15\n",
            "9/9 [==============================] - 0s 1ms/step - loss: 0.3653 - accuracy: 0.8643\n",
            "Epoch 11/15\n",
            "9/9 [==============================] - 0s 1ms/step - loss: 0.3420 - accuracy: 0.8875\n",
            "Epoch 12/15\n",
            "9/9 [==============================] - 0s 1ms/step - loss: 0.3932 - accuracy: 0.8664\n",
            "Epoch 13/15\n",
            "9/9 [==============================] - 0s 1ms/step - loss: 0.4667 - accuracy: 0.8131\n",
            "Epoch 14/15\n",
            "9/9 [==============================] - 0s 1ms/step - loss: 0.4269 - accuracy: 0.8412\n",
            "Epoch 15/15\n",
            "9/9 [==============================] - 0s 1ms/step - loss: 0.3989 - accuracy: 0.8538\n"
          ],
          "name": "stdout"
        },
        {
          "output_type": "execute_result",
          "data": {
            "text/plain": [
              "<tensorflow.python.keras.callbacks.History at 0x7f857a3949d0>"
            ]
          },
          "metadata": {
            "tags": []
          },
          "execution_count": 336
        }
      ]
    },
    {
      "cell_type": "markdown",
      "metadata": {
        "id": "iJruFXmb_dur"
      },
      "source": [
        "Выше мы использовали **функциональный** способ задания модели, когда мы сначала описываем входную переменную, затем - происходящие с ней преобразования, и потом определяем объект `Model`.\r\n",
        "\r\n",
        "Мы можем также задавать модель как последовательности слоёв с помощью `Sequential`:"
      ]
    },
    {
      "cell_type": "code",
      "metadata": {
        "colab": {
          "base_uri": "https://localhost:8080/"
        },
        "id": "iWc_kSr8_YXt",
        "outputId": "8ee8bbd5-d334-452e-8867-154366f7cf29"
      },
      "source": [
        "model = tf.keras.models.Sequential()\r\n",
        "model.add(tf.keras.layers.Dense(5,activation='sigmoid',input_shape=(2,)))\r\n",
        "model.add(tf.keras.layers.Dense(1,activation='sigmoid'))\r\n",
        "\r\n",
        "model.compile(tf.keras.optimizers.Adam(0.1),'binary_crossentropy',['accuracy'])\r\n",
        "model.summary()\r\n",
        "model.fit(train_x_norm,train_labels,batch_size=8,epochs=15)"
      ],
      "execution_count": 337,
      "outputs": [
        {
          "output_type": "stream",
          "text": [
            "Model: \"sequential_21\"\n",
            "_________________________________________________________________\n",
            "Layer (type)                 Output Shape              Param #   \n",
            "=================================================================\n",
            "dense_71 (Dense)             (None, 5)                 15        \n",
            "_________________________________________________________________\n",
            "dense_72 (Dense)             (None, 1)                 6         \n",
            "=================================================================\n",
            "Total params: 21\n",
            "Trainable params: 21\n",
            "Non-trainable params: 0\n",
            "_________________________________________________________________\n",
            "Epoch 1/15\n",
            "9/9 [==============================] - 0s 1ms/step - loss: 0.6695 - accuracy: 0.6118\n",
            "Epoch 2/15\n",
            "9/9 [==============================] - 0s 1ms/step - loss: 0.5108 - accuracy: 0.8211\n",
            "Epoch 3/15\n",
            "9/9 [==============================] - 0s 1ms/step - loss: 0.4689 - accuracy: 0.8662\n",
            "Epoch 4/15\n",
            "9/9 [==============================] - 0s 1ms/step - loss: 0.3556 - accuracy: 0.8976\n",
            "Epoch 5/15\n",
            "9/9 [==============================] - 0s 2ms/step - loss: 0.3588 - accuracy: 0.8991\n",
            "Epoch 6/15\n",
            "9/9 [==============================] - 0s 1ms/step - loss: 0.4115 - accuracy: 0.8373\n",
            "Epoch 7/15\n",
            "9/9 [==============================] - 0s 1ms/step - loss: 0.4527 - accuracy: 0.8193\n",
            "Epoch 8/15\n",
            "9/9 [==============================] - 0s 1ms/step - loss: 0.3519 - accuracy: 0.8683\n",
            "Epoch 9/15\n",
            "9/9 [==============================] - 0s 1ms/step - loss: 0.4175 - accuracy: 0.8310\n",
            "Epoch 10/15\n",
            "9/9 [==============================] - 0s 1ms/step - loss: 0.3942 - accuracy: 0.8654\n",
            "Epoch 11/15\n",
            "9/9 [==============================] - 0s 1ms/step - loss: 0.4572 - accuracy: 0.8165\n",
            "Epoch 12/15\n",
            "9/9 [==============================] - 0s 1ms/step - loss: 0.4270 - accuracy: 0.8204\n",
            "Epoch 13/15\n",
            "9/9 [==============================] - 0s 1ms/step - loss: 0.3785 - accuracy: 0.8333\n",
            "Epoch 14/15\n",
            "9/9 [==============================] - 0s 1ms/step - loss: 0.2941 - accuracy: 0.8832\n",
            "Epoch 15/15\n",
            "9/9 [==============================] - 0s 2ms/step - loss: 0.4077 - accuracy: 0.8523\n"
          ],
          "name": "stdout"
        },
        {
          "output_type": "execute_result",
          "data": {
            "text/plain": [
              "<tensorflow.python.keras.callbacks.History at 0x7f8579a96690>"
            ]
          },
          "metadata": {
            "tags": []
          },
          "execution_count": 337
        }
      ]
    },
    {
      "cell_type": "markdown",
      "metadata": {
        "id": "yX6hqiafwHl9"
      },
      "source": [
        "## Выводы\n",
        "\n",
        "* Tensorflow позволяет более гибко определять структуру графа вычислений, описывать свои функции и конфигурации.\n",
        "* Есть более удобные средства для работы с данными (`td.Data`), со слоями (`tf.layers`)\n",
        "* Для массового использования нейросетей Google рекомендует **Keras**, который позволяет собирать нейросети как конструктор\n",
        "* При этом возможно реализовать свой слой для Keras, и потом использовать его в своих моделях.\n",
        "* Для типовых задач имеет смысл использовать Keras\n",
        "* Также стоит посмотреть на PyTorch, это \"восходящая звезда\"\n",
        "\n",
        "Хороший Notebook про Keras и Tensorflow 2.0 от создателя Keras - [тут](https://t.co/k694J95PI8)"
      ]
    },
    {
      "cell_type": "code",
      "metadata": {
        "trusted": true,
        "id": "MG64NKzawHl-"
      },
      "source": [
        ""
      ],
      "execution_count": null,
      "outputs": []
    }
  ]
}