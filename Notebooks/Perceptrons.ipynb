{
 "cells": [
  {
   "cell_type": "markdown",
   "metadata": {
    "slideshow": {
     "slide_type": "slide"
    }
   },
   "source": [
    "# Введение в нейронные сети\n",
    "\n",
    "## Эпизод 1: Персептрон\n",
    "\n",
    "Дмитрий Сошников\n",
    "\n",
    "технологический евангелист, Microsoft\n",
    "\n",
    "dmitryso@microsoft.com"
   ]
  },
  {
   "cell_type": "markdown",
   "metadata": {
    "slideshow": {
     "slide_type": "skip"
    }
   },
   "source": [
    "Данная презентация представляет собой введение в нейронные сети. Идея однодневного мастер-класса основана на Neural Network Workshop в Microsoft Research Cambridge. Материал и фрагменты кода частично взяты из презентаций [Katja Hoffmann](https://www.microsoft.com/en-us/research/people/kahofman/), [Matthew Johnson](https://www.microsoft.com/en-us/research/people/matjoh/) и [Ryoto Tomioka](https://www.microsoft.com/en-us/research/people/ryoto/) из Microsoft Research Cambridge. [NeuroWorkshop](http://github.com/shwars/NeuroWorkshop) подготовлен [Дмитрием Сошниковым](http://blog.soshnikov.com), Microsoft Russia."
   ]
  },
  {
   "cell_type": "markdown",
   "metadata": {
    "slideshow": {
     "slide_type": "slide"
    }
   },
   "source": [
    "## Два взгляда на нейронные сети\n",
    "\n",
    " * Восходящий подход к искусственному интеллекту\n",
    " * Способ усложнения и комбинирования базовых алгоритмов машинного обучения\n",
    "     - обучение с учителем (*supervised learning*)\n",
    "     - обучение без учителя (*unsupervised learning*)"
   ]
  },
  {
   "cell_type": "markdown",
   "metadata": {
    "slideshow": {
     "slide_type": "slide"
    }
   },
   "source": [
    "## Обучение с учителем\n",
    "\n",
    "**Дано:**\n",
    "  * Обучающая выборка $\\mathbf{X} \\in \\mathbb{R}^{n \\times k}$\n",
    "    * $n$ - размер выборки\n",
    "    * $x_i$ представлено вектором свойств размерности $k$\n",
    "  * Известные значения целевой функции $\\mathbf{Y}$ ($y_i$ соответствует вектору свойств $x_i$)\n",
    "    * $\\mathbf{Y} \\in \\mathbb{R}^{n \\times 1}$ (задачи регрессии)\n",
    "    * $\\mathbf{Y} \\in C^{n \\times 1}$, где $y_i \\in C$ (задачи классификации на $|C|$ классов)\n"
   ]
  },
  {
   "cell_type": "markdown",
   "metadata": {
    "slideshow": {
     "slide_type": "slide"
    }
   },
   "source": [
    "## Задача\n",
    "\n",
    "**Дано:**\n",
    "  * Обучающая выборка $\\mathbf{X} \\in \\mathbb{R}^{n \\times k}$\n",
    "  * Входные значение целевой функции $\\mathbf{Y}$\n",
    "\n",
    "**Необходимо построить:**\n",
    "  * Функцию $f : \\mathbf{X} \\rightarrow \\mathbf{Y}$ который _точно предсказывает_ значение целевой функции на новом наборе входных данных $\\mathbf{X}_{new}$\n"
   ]
  },
  {
   "cell_type": "markdown",
   "metadata": {},
   "source": [
    "**[matplotlib.gridspec](https://matplotlib.org/stable/api/gridspec_api.html)** - содержит классы, которые помогают размещать несколько осей в виде сетки в пределах фигуры\n",
    "\n",
    "**[sklearn (Scikit-learn)](https://scikit-learn.org/stable/)** - один из наиболее широко используемых пакетов **Python** для **Data Science** и **Machine Learning**. Он позволяет выполнять множество операций и предоставляет множество алгоритмов)\n",
    "\n",
    "Установка **Scikit-learn**:\n",
    "- `conda install -c anaconda scikit-learn`\n",
    "\n",
    "Модуль **[sklearn.datasets](https://scikit-learn.org/stable/modules/classes.html#module-sklearn.datasets)** включает в себя утилиты для загрузки наборов данных, включая методы для загрузки и получения популярных справочных наборов данных. Также есть несколько генераторов искусственных данных\n",
    "\n",
    "**[sklearn.datasets.make_classification](https://scikit-learn.org/stable/modules/generated/sklearn.datasets.make_classification.html?highlight=make_classification#sklearn.datasets.make_classification)** модуль для создания случайных задач классификации n-классов\n",
    "\n",
    "Модуль **[pickle](https://docs.python.org/3/library/pickle.html)** реализует двоичные протоколы для сериализации и десериализации структуры объекта **Python**\n",
    "\n",
    "Mодуль **[random](https://docs.python.org/3/library/random.html)** реализует генераторы псевдослучайных чисел для различных распределений"
   ]
  },
  {
   "cell_type": "code",
   "execution_count": 1,
   "metadata": {
    "slideshow": {
     "slide_type": "skip"
    }
   },
   "outputs": [],
   "source": [
    "import matplotlib.pyplot as plt\n",
    "from matplotlib import gridspec\n",
    "from sklearn.datasets import make_classification\n",
    "import numpy as np\n",
    "from ipywidgets import interact, interactive, fixed\n",
    "import ipywidgets as widgets\n",
    "import pickle\n",
    "import os\n",
    "import pylab\n",
    "\n",
    "# инициализация генератора случайных чисел\n",
    "np.random.seed(1)\n",
    "import random"
   ]
  },
  {
   "cell_type": "markdown",
   "metadata": {
    "slideshow": {
     "slide_type": "slide"
    }
   },
   "source": [
    "## Пример\n",
    "Рассмотрим пример двухмерной задачи классификации на 2 класса. Примером такой задачи может быть классификация опухоли на 2 типа - доброкачественная и злокачественная, в зависимости от её размера и возраста."
   ]
  },
  {
   "cell_type": "code",
   "execution_count": 2,
   "metadata": {},
   "outputs": [
    {
     "name": "stdout",
     "output_type": "stream",
     "text": [
      "Признаки объектов:\n",
      " [[-1.74418375 -1.39520365]\n",
      " [ 2.59217839 -0.08124505]\n",
      " [ 0.9218062   0.91789982]\n",
      " [-0.84370177 -0.18738254]\n",
      " [-0.27501205 -1.26198287]\n",
      " [-1.06435515  1.49764711]\n",
      " [ 0.32839951  2.2567791 ]\n",
      " [-0.1901916   1.79802264]\n",
      " [-0.98535601 -1.19480331]\n",
      " [-1.49693229  0.79313349]\n",
      " [ 0.98437253  0.65941879]\n",
      " [-0.3333734   2.13972138]\n",
      " [-0.72858991  1.80336594]\n",
      " [-1.46642569 -0.76878457]\n",
      " [-0.22474062 -3.31057902]\n",
      " [-1.47727166 -1.11750497]\n",
      " [-0.48177962 -1.76754553]\n",
      " [ 0.69630232 -1.52963691]\n",
      " [-0.86454008 -1.24093389]\n",
      " [ 0.37357293 -0.75240233]\n",
      " [-0.44710832 -1.66666259]\n",
      " [-1.33199999  1.6348586 ]\n",
      " [ 0.99987818  0.12590546]\n",
      " [ 0.9846881   0.00422772]\n",
      " [ 0.92161104  1.37596239]\n",
      " [-0.55031643 -0.72141514]\n",
      " [ 0.59646789 -1.41568437]\n",
      " [-1.52972481  0.44521769]\n",
      " [ 0.25463996  2.07230053]\n",
      " [-0.08087816 -0.95385315]\n",
      " [-2.10454658 -1.41184986]\n",
      " [-2.14186893 -2.33161256]\n",
      " [-1.59985286 -2.3461304 ]\n",
      " [ 0.67125646  1.20133839]\n",
      " [ 0.59668612  2.00667388]\n",
      " [-2.827096   -0.72936336]\n",
      " [-1.10334005 -1.79789422]\n",
      " [ 0.37516036  1.48782297]\n",
      " [ 2.23235843 -0.2519221 ]\n",
      " [ 1.1453057   1.02912606]\n",
      " [-0.9438123  -1.53997072]\n",
      " [ 0.86847045 -0.58612702]\n",
      " [-0.43362409  1.44546335]\n",
      " [ 1.82183113 -2.10919029]\n",
      " [ 0.04765327  1.93680009]\n",
      " [ 0.25428767 -0.84713878]\n",
      " [ 1.50196432  0.76893361]\n",
      " [-2.57367938  0.26153297]\n",
      " [-0.24031814  1.81169466]\n",
      " [-0.65619885  1.04851272]]\n",
      "Классы объектов:\n",
      " [0 0 1 0 0 1 1 1 0 1 1 1 1 1 0 0 0 0 0 0 0 1 0 1 1 0 0 1 1 0 0 0 0 1 1 1 0\n",
      " 1 0 1 0 0 1 0 1 0 1 1 1 1]\n"
     ]
    }
   ],
   "source": [
    "# размер выборки\n",
    "n = 50\n",
    "\n",
    "# генерация задачи классификации:\n",
    "# n_samples - количество объектов задачи классификаци\n",
    "# n_features - общее количество признаков у объектов\n",
    "# n_redundant - количество неинформативных (избыточных) признаков\n",
    "# n_informative - количество информативных признаков)\n",
    "# flip_y - количество объектов в долях (от 0 до 1), которым класс присвоен случайно\n",
    "# X - сгенерированная выборка в виде массива признаков объектов\n",
    "# Y - массив целых чисел - соответствие объекта к классу \n",
    "X, Y = make_classification(n_samples = n, n_features=2,\n",
    "                           n_redundant=0, n_informative=2, flip_y=0)\n",
    "print(f'Признаки объектов:\\n {X}')\n",
    "print(f'Классы объектов:\\n {Y}')"
   ]
  },
  {
   "cell_type": "code",
   "execution_count": 3,
   "metadata": {},
   "outputs": [
    {
     "name": "stdout",
     "output_type": "stream",
     "text": [
      "Ответы задачи бинарной классификации:\n",
      " [-1 -1  1 -1 -1  1  1  1 -1  1  1  1  1  1 -1 -1 -1 -1 -1 -1 -1  1 -1  1\n",
      "  1 -1 -1  1  1 -1 -1 -1 -1  1  1  1 -1  1 -1  1 -1 -1  1 -1  1 -1  1  1\n",
      "  1  1]\n"
     ]
    }
   ],
   "source": [
    "# бинаризация (со знаком) ответов задачи классификации\n",
    "Y = Y*2-1\n",
    "print(f'Ответы задачи бинарной классификации:\\n {Y}')"
   ]
  },
  {
   "cell_type": "code",
   "execution_count": 4,
   "metadata": {},
   "outputs": [
    {
     "name": "stdout",
     "output_type": "stream",
     "text": [
      "Признаки объектов:\n",
      " [[-1.7441838  -1.3952037 ]\n",
      " [ 2.5921783  -0.08124504]\n",
      " [ 0.9218062   0.91789985]\n",
      " [-0.8437018  -0.18738253]\n",
      " [-0.27501205 -1.2619829 ]\n",
      " [-1.0643551   1.4976472 ]\n",
      " [ 0.3283995   2.2567792 ]\n",
      " [-0.1901916   1.7980226 ]\n",
      " [-0.98535603 -1.1948034 ]\n",
      " [-1.4969323   0.7931335 ]\n",
      " [ 0.98437256  0.65941876]\n",
      " [-0.3333734   2.1397214 ]\n",
      " [-0.7285899   1.803366  ]\n",
      " [-1.4664257  -0.7687846 ]\n",
      " [-0.22474062 -3.310579  ]\n",
      " [-1.4772717  -1.117505  ]\n",
      " [-0.48177963 -1.7675456 ]\n",
      " [ 0.6963023  -1.5296369 ]\n",
      " [-0.8645401  -1.2409339 ]\n",
      " [ 0.37357292 -0.7524023 ]\n",
      " [-0.44710833 -1.6666626 ]\n",
      " [-1.332       1.6348586 ]\n",
      " [ 0.99987817  0.12590547]\n",
      " [ 0.9846881   0.00422772]\n",
      " [ 0.921611    1.3759624 ]\n",
      " [-0.55031645 -0.72141516]\n",
      " [ 0.5964679  -1.4156843 ]\n",
      " [-1.5297248   0.4452177 ]\n",
      " [ 0.25463995  2.0723004 ]\n",
      " [-0.08087816 -0.95385313]\n",
      " [-2.1045465  -1.4118499 ]\n",
      " [-2.1418688  -2.3316126 ]\n",
      " [-1.5998529  -2.3461304 ]\n",
      " [ 0.6712565   1.2013384 ]\n",
      " [ 0.5966861   2.0066738 ]\n",
      " [-2.827096   -0.7293634 ]\n",
      " [-1.10334    -1.7978942 ]\n",
      " [ 0.37516037  1.487823  ]\n",
      " [ 2.2323585  -0.2519221 ]\n",
      " [ 1.1453058   1.029126  ]\n",
      " [-0.9438123  -1.5399708 ]\n",
      " [ 0.86847043 -0.58612704]\n",
      " [-0.4336241   1.4454633 ]\n",
      " [ 1.8218311  -2.1091902 ]\n",
      " [ 0.04765327  1.9368001 ]\n",
      " [ 0.25428766 -0.84713876]\n",
      " [ 1.5019643   0.7689336 ]\n",
      " [-2.5736794   0.26153296]\n",
      " [-0.24031815  1.8116946 ]\n",
      " [-0.65619886  1.0485127 ]]\n",
      "Ответы бинарной классификации:\n",
      " [-1 -1  1 -1 -1  1  1  1 -1  1  1  1  1  1 -1 -1 -1 -1 -1 -1 -1  1 -1  1\n",
      "  1 -1 -1  1  1 -1 -1 -1 -1  1  1  1 -1  1 -1  1 -1 -1  1 -1  1 -1  1  1\n",
      "  1  1]\n"
     ]
    }
   ],
   "source": [
    "# типизация массивов данных\n",
    "X = X.astype(np.float32); \n",
    "Y = Y.astype(np.int32)\n",
    "\n",
    "print(f'Признаки объектов:\\n {X}')\n",
    "print(f'Ответы бинарной классификации:\\n {Y}')"
   ]
  },
  {
   "cell_type": "code",
   "execution_count": 5,
   "metadata": {
    "slideshow": {
     "slide_type": "slide"
    }
   },
   "outputs": [
    {
     "name": "stdout",
     "output_type": "stream",
     "text": [
      "Обучающая выборка объектов:\n",
      " [[-1.7441838  -1.3952037 ]\n",
      " [ 2.5921783  -0.08124504]\n",
      " [ 0.9218062   0.91789985]\n",
      " [-0.8437018  -0.18738253]\n",
      " [-0.27501205 -1.2619829 ]\n",
      " [-1.0643551   1.4976472 ]\n",
      " [ 0.3283995   2.2567792 ]\n",
      " [-0.1901916   1.7980226 ]\n",
      " [-0.98535603 -1.1948034 ]\n",
      " [-1.4969323   0.7931335 ]\n",
      " [ 0.98437256  0.65941876]\n",
      " [-0.3333734   2.1397214 ]\n",
      " [-0.7285899   1.803366  ]\n",
      " [-1.4664257  -0.7687846 ]\n",
      " [-0.22474062 -3.310579  ]\n",
      " [-1.4772717  -1.117505  ]\n",
      " [-0.48177963 -1.7675456 ]\n",
      " [ 0.6963023  -1.5296369 ]\n",
      " [-0.8645401  -1.2409339 ]\n",
      " [ 0.37357292 -0.7524023 ]\n",
      " [-0.44710833 -1.6666626 ]\n",
      " [-1.332       1.6348586 ]\n",
      " [ 0.99987817  0.12590547]\n",
      " [ 0.9846881   0.00422772]\n",
      " [ 0.921611    1.3759624 ]\n",
      " [-0.55031645 -0.72141516]\n",
      " [ 0.5964679  -1.4156843 ]\n",
      " [-1.5297248   0.4452177 ]\n",
      " [ 0.25463995  2.0723004 ]\n",
      " [-0.08087816 -0.95385313]\n",
      " [-2.1045465  -1.4118499 ]\n",
      " [-2.1418688  -2.3316126 ]\n",
      " [-1.5998529  -2.3461304 ]\n",
      " [ 0.6712565   1.2013384 ]\n",
      " [ 0.5966861   2.0066738 ]\n",
      " [-2.827096   -0.7293634 ]\n",
      " [-1.10334    -1.7978942 ]\n",
      " [ 0.37516037  1.487823  ]\n",
      " [ 2.2323585  -0.2519221 ]\n",
      " [ 1.1453058   1.029126  ]]\n",
      "Обучающая выборка ответов:\n",
      " [-1 -1  1 -1 -1  1  1  1 -1  1  1  1  1  1 -1 -1 -1 -1 -1 -1 -1  1 -1  1\n",
      "  1 -1 -1  1  1 -1 -1 -1 -1  1  1  1 -1  1 -1  1]\n",
      "Тестовая выборка объектов:\n",
      " [[-0.9438123  -1.5399708 ]\n",
      " [ 0.86847043 -0.58612704]\n",
      " [-0.4336241   1.4454633 ]\n",
      " [ 1.8218311  -2.1091902 ]\n",
      " [ 0.04765327  1.9368001 ]\n",
      " [ 0.25428766 -0.84713876]\n",
      " [ 1.5019643   0.7689336 ]\n",
      " [-2.5736794   0.26153296]\n",
      " [-0.24031815  1.8116946 ]\n",
      " [-0.65619886  1.0485127 ]]\n",
      "Тестовая выборка ответов:\n",
      " [-1 -1  1 -1  1 -1  1  1  1  1]\n"
     ]
    }
   ],
   "source": [
    "# Разбиваем на обучающую и тестовые выборки. В реальной жизни обучающая - 80% данных\n",
    "train_x, test_x = np.split(X, [ n*8//10])\n",
    "train_labels, test_labels = np.split(Y, [n*8//10])\n",
    "print(f'Обучающая выборка объектов:\\n {train_x}')\n",
    "print(f'Обучающая выборка ответов:\\n {train_labels}')\n",
    "print(f'Тестовая выборка объектов:\\n {test_x}')\n",
    "print(f'Тестовая выборка ответов:\\n {test_labels}')"
   ]
  },
  {
   "cell_type": "markdown",
   "metadata": {},
   "source": [
    "**[matplotlib.pyplot.subplots](https://matplotlib.org/stable/api/_as_gen/matplotlib.pyplot.subplots.html?highlight=subplots#matplotlib.pyplot.subplots)** - создание фигуры и набора осей для графиков \n",
    "\n",
    "**[matplotlib.pyplot.suptitle](https://matplotlib.org/stable/api/_as_gen/matplotlib.pyplot.suptitle.html?highlight=suptitle#matplotlib.pyplot.suptitle)** - добавление заголовка к фигуре по центру\n",
    "\n",
    "**[matplotlib.axes.Axes.set_xlabel](https://matplotlib.org/stable/api/_as_gen/matplotlib.axes.Axes.set_xlabel.html?highlight=set_xlabel#matplotlib.axes.Axes.set_xlabel)** - установление метки (название) для оси X\n",
    "\n",
    "**[matplotlib.axes.Axes.set_ylabel](https://matplotlib.org/stable/api/_as_gen/matplotlib.axes.Axes.set_ylabel.html?highlight=set_ylabel#matplotlib.axes.Axes.set_ylabel)** - установление метки (названия) для оси Y\n",
    "\n",
    "**[matplotlib.axes.Axes.scatter](https://matplotlib.org/stable/api/_as_gen/matplotlib.axes.Axes.scatter.html?highlight=scatter#matplotlib.axes.Axes.scatter)** - диаграмма разброса **y** по **x** с разным размером и/или цветом маркера\n",
    "\n",
    "**[matplotlib.pyplot.subplots_adjust](https://matplotlib.org/stable/api/_as_gen/matplotlib.pyplot.subplots_adjust.html?highlight=subplots_adjust#matplotlib.pyplot.subplots_adjust)** - настройте параметры компоновки подзаголовка"
   ]
  },
  {
   "cell_type": "code",
   "execution_count": 6,
   "metadata": {
    "slideshow": {
     "slide_type": "skip"
    }
   },
   "outputs": [],
   "source": [
    "# функция вывода графика разброса объектов по классам\n",
    "# suptitle - название фигуры\n",
    "# features - признаки объектов\n",
    "# labels - метки (названия) осей\n",
    "def plot_dataset(suptitle, features, labels):\n",
    "    # подготовка графиков\n",
    "    fig, ax = plt.subplots(1, 1)\n",
    "    #plt.subplots_adjust(bottom=0.2, wspace=0.4)\n",
    "    fig.suptitle(suptitle, fontsize = 16)\n",
    "    \n",
    "    # установление меток по осям осям\n",
    "    ax.set_xlabel('$x_i[0]$ -- (feature 1)')\n",
    "    ax.set_ylabel('$x_i[1]$ -- (feature 2)')\n",
    "\n",
    "    # установление цвета для различных классов \n",
    "    colors = ['r' if l>0 else 'b' for l in labels]\n",
    "    \n",
    "    # построение графика\n",
    "    ax.scatter(features[:, 0], features[:, 1], marker='o', c=colors, s=100, alpha = 0.5)\n",
    "    \n",
    "    # вывод фигуры\n",
    "    fig"
   ]
  },
  {
   "cell_type": "code",
   "execution_count": 7,
   "metadata": {
    "slideshow": {
     "slide_type": "slide"
    }
   },
   "outputs": [
    {
     "data": {
      "image/png": "[encoded data removed]",
      "text/plain": [
       "<Figure size 432x288 with 1 Axes>"
      ]
     },
     "metadata": {
      "needs_background": "light"
     },
     "output_type": "display_data"
    }
   ],
   "source": [
    "# вывод графика функции разброса объектов по классам\n",
    "plot_dataset('Scatterplot of the training data', train_x, train_labels)"
   ]
  },
  {
   "cell_type": "markdown",
   "metadata": {
    "slideshow": {
     "slide_type": "slide"
    }
   },
   "source": [
    "## Нейросети\n",
    "<img src=\"https://raw.githubusercontent.com/shwars/NeuroWorkshop/master/images/synapse-wikipedia.JPG\" width=\"30%\"/>\n",
    "Искусственная нейросеть - это моделирование с той или иной точностью процессов, происходящих в мозге человека.\n",
    "  * Моделируется в основном электрическая активность\n",
    "  * Сильное упрощение модели, которое позволяет эффективно её вычислять\n",
    "\n"
   ]
  },
  {
   "cell_type": "markdown",
   "metadata": {
    "slideshow": {
     "slide_type": "slide"
    }
   },
   "source": [
    "## Персептрон\n",
    "<img style='margin: 10px;width: 30%;' src='https://raw.githubusercontent.com/shwars/NeuroWorkshop/master/images/Rosenblatt-wikipedia.jpg' alt='Frank Rosenblatt' align='right'/>\n",
    "Первая попытка реализовать нейронную сеть - 1957 г., Cornell Aeronautical Laboratory, Frank Rosenblatt. \n",
    "\n",
    "Реализация \"в железе\"\n",
    "\n",
    "Цель - распознавание образов\n",
    "\n",
    "Один нейрон, 400 входов от изображения 20x20, двоичный выход"
   ]
  },
  {
   "cell_type": "markdown",
   "metadata": {
    "slideshow": {
     "slide_type": "slide"
    }
   },
   "source": [
    "## Персептрон\n",
    "\n",
    "<img style='margin: 10px;width:30%' src='https://raw.githubusercontent.com/shwars/NeuroWorkshop/master/images/Mark_I_perceptron_wikipedia.jpg' align='right' alt='The Mark 1 Perceptron' />\n",
    "\n",
    "New York Times так об этом писала:\n",
    "\n",
    "> the embryo of an electronic computer that [the Navy] expects will be able to walk, talk,\n",
    "> see, write, reproduce itself and be conscious of its existence.\n",
    "\n",
    "В основе - работы Warren McCullock и Walter Pitts 1943 года\n",
    "\n",
    "Threshold Logic Unit - первая модель искусственного нейрона"
   ]
  },
  {
   "cell_type": "markdown",
   "metadata": {
    "slideshow": {
     "slide_type": "slide"
    }
   },
   "source": [
    "## Мат.модель персептрона\n",
    "\n",
    "На вход подаётся вектор $\\mathbf{x}$, в этом случае выходное значение вычисляется как:\n",
    "\n",
    "$$y(\\mathbf{x}) = f(\\mathbf{w}^{\\mathrm{T}}\\mathbf{x})$$\n",
    "\n",
    "где $\\mathbf{w}$ - вектор весов, $f$ - пороговая функция вида\n",
    "$$\n",
    "f(x) = \\begin{cases}\n",
    "         +1 & x \\geq 0 \\\\\n",
    "         -1 & x < 0\n",
    "       \\end{cases} \\\\\n",
    "$$"
   ]
  },
  {
   "cell_type": "markdown",
   "metadata": {
    "slideshow": {
     "slide_type": "slide"
    }
   },
   "source": [
    "## Алгоритм обучения\n",
    "\n",
    "Для работы персептрона необходимо найти веса $\\mathbf{w}$. Для этого мы используем и минимизируем **критерий персептрона**:\n",
    "\n",
    "$$E(\\mathbf{w}) = -\\sum_{n \\in \\mathcal{M}}\\mathbf{w}^{\\mathrm{T}}\\mathbf{x}_{n}t_{n}$$\n",
    " \n",
    "  * $t_{n} \\in \\{-1, +1\\}$ для отрицательных и положительных примеров соответственно\n",
    "  * $\\mathcal{M}$ - множество неправильно классифицированных примеров\n",
    "  \n",
    "Для обновления весов на каждом примере мы можем использовать градиент этой функции:\n",
    "\n",
    "$$\\mathbf{w}^{\\tau + 1}=\\mathbf{w}^{\\tau} - \\eta \\nabla E(\\mathbf{w}) = \\mathbf{w}^{\\tau} + \\eta \\mathbf{x}_{n} t_{n}$$\n",
    "\n",
    "где $\\eta$ - коэффициент, показывающий скорость обучения, $\\tau\\in\\mathbb{N}$ - номер шага алгоритма"
   ]
  },
  {
   "cell_type": "code",
   "execution_count": 8,
   "metadata": {},
   "outputs": [
    {
     "name": "stdout",
     "output_type": "stream",
     "text": [
      "Объекты обучающей выборки с положительными ответами:\n",
      " [[ 0.92180622  0.91789985  1.        ]\n",
      " [-1.06435513  1.49764717  1.        ]\n",
      " [ 0.32839951  2.25677919  1.        ]\n",
      " [-0.1901916   1.79802263  1.        ]\n",
      " [-1.49693227  0.7931335   1.        ]\n",
      " [ 0.98437256  0.65941876  1.        ]\n",
      " [-0.3333734   2.13972139  1.        ]\n",
      " [-0.72858989  1.80336595  1.        ]\n",
      " [-1.46642566 -0.76878458  1.        ]\n",
      " [-1.33200002  1.63485861  1.        ]\n",
      " [ 0.9846881   0.00422772  1.        ]\n",
      " [ 0.92161101  1.37596238  1.        ]\n",
      " [-1.52972484  0.4452177   1.        ]\n",
      " [ 0.25463995  2.07230043  1.        ]\n",
      " [ 0.67125648  1.20133841  1.        ]\n",
      " [ 0.59668612  2.00667381  1.        ]\n",
      " [-2.82709599 -0.72936338  1.        ]\n",
      " [ 0.37516037  1.48782301  1.        ]\n",
      " [ 1.14530575  1.02912605  1.        ]]\n",
      "Количество объектов с позитивными выходами: 19\n"
     ]
    }
   ],
   "source": [
    "# получение массива объектов с позитивными выходами:\n",
    "# [признаки объекта, 1 в качестве ответа]\n",
    "pos_examples = np.array([ [t[0],t[1],1] for i,t in enumerate(train_x) \n",
    "                          if train_labels[i]>0])\n",
    "print(f'Объекты обучающей выборки с положительными ответами:\\n {pos_examples}')\n",
    "print(f'Количество объектов с позитивными выходами: {len(pos_examples)}')"
   ]
  },
  {
   "cell_type": "code",
   "execution_count": 9,
   "metadata": {
    "slideshow": {
     "slide_type": "slide"
    }
   },
   "outputs": [
    {
     "name": "stdout",
     "output_type": "stream",
     "text": [
      "Объекты обучающей выборки с положительными ответами:\n",
      " [[-1.74418378 -1.39520371  1.        ]\n",
      " [ 2.59217834 -0.08124504  1.        ]\n",
      " [-0.84370178 -0.18738253  1.        ]\n",
      " [-0.27501205 -1.26198292  1.        ]\n",
      " [-0.98535603 -1.19480336  1.        ]\n",
      " [-0.22474062 -3.31057906  1.        ]\n",
      " [-1.47727168 -1.11750495  1.        ]\n",
      " [-0.48177963 -1.76754558  1.        ]\n",
      " [ 0.69630229 -1.52963686  1.        ]\n",
      " [-0.8645401  -1.2409339   1.        ]\n",
      " [ 0.37357292 -0.75240231  1.        ]\n",
      " [-0.44710833 -1.66666257  1.        ]\n",
      " [ 0.99987817  0.12590547  1.        ]\n",
      " [-0.55031645 -0.72141516  1.        ]\n",
      " [ 0.59646791 -1.41568434  1.        ]\n",
      " [-0.08087816 -0.95385313  1.        ]\n",
      " [-2.10454655 -1.41184986  1.        ]\n",
      " [-2.14186883 -2.33161259  1.        ]\n",
      " [-1.59985292 -2.34613037  1.        ]\n",
      " [-1.10334003 -1.79789424  1.        ]\n",
      " [ 2.23235846 -0.2519221   1.        ]]\n",
      "Количество объектов с негативными выходами: 21\n"
     ]
    }
   ],
   "source": [
    "# получение массива объектов с негативными выходами:\n",
    "# [признаки объекта, -1 в качестве ответа]\n",
    "neg_examples = np.array([ [t[0],t[1],1] for i,t in enumerate(train_x) \n",
    "                          if train_labels[i]<0])\n",
    "print(f'Объекты обучающей выборки с положительными ответами:\\n {neg_examples}')\n",
    "print(f'Количество объектов с негативными выходами: {len(neg_examples)}')"
   ]
  },
  {
   "cell_type": "markdown",
   "metadata": {},
   "source": [
    "**[numpy.dot()](https://numpy.org/doc/stable/reference/generated/numpy.dot.html)** - скалярное произведение векторов"
   ]
  },
  {
   "cell_type": "markdown",
   "metadata": {
    "slideshow": {
     "slide_type": "slide"
    }
   },
   "source": [
    "```python\n",
    "# код не совсем правильный\n",
    "# обучение модели\n",
    "# positive_examples - обучающая выборка с положительными выходами\n",
    "# negative_examples - обучающая выборка с отрицательными выходами\n",
    "# num_iterations - количество итераций обучения\n",
    "def train(positive_examples, negative_examples, num_iterations = 100):\n",
    "    # начальная инициализация весов\n",
    "    weights = [0,0,0]\n",
    "    \n",
    "    # цикл обечения по количеству итераций\n",
    "    for i in range(num_iterations):\n",
    "        # выбор случайного объекта из каждой выборки\n",
    "        pos = random.choice(positive_examples)\n",
    "        neg = random.choice(negative_examples)\n",
    "\n",
    "        # скалярное произведение векторов (вектор признаков объектов с положительными выходами на вектор весов)\n",
    "        z = np.dot(pos, weights)   \n",
    "        \n",
    "        # увеличение весов на 1\n",
    "        if z < 0:\n",
    "            weights = weights + weights.shape\n",
    "        \n",
    "        # скалярное произведение векторов (вектор признаков объектов с отрицательными выходами на вектор весов)\n",
    "        z  = np.dot(neg, weights)\n",
    "        \n",
    "        # уменьшение весов на 1\n",
    "        if z >= 0:\n",
    "            weights = weights - weights.shape\n",
    "\n",
    "    # возвращаем веса\n",
    "    return weights\n",
    "```"
   ]
  },
  {
   "cell_type": "markdown",
   "metadata": {},
   "source": [
    "**[numpy.zeros()](https://numpy.org/doc/stable/search.html?q=zeros)** - возвращает новый массив заданной формы и типа, заполненный нулями\n",
    "\n",
    "**[numpy.zeros()](https://numpy.org/doc/stable/reference/generated/numpy.sum.html?)** - возвращает cуммe элементов массива по заданной оси"
   ]
  },
  {
   "cell_type": "code",
   "execution_count": 10,
   "metadata": {
    "slideshow": {
     "slide_type": "skip"
    }
   },
   "outputs": [],
   "source": [
    "# функция обучения модели\n",
    "# positive_examples - обучающая выборка с положительными выходами\n",
    "# negative_examples - обучающая выборка с отрицательными выходами\n",
    "# num_iterations - количество итераций обучения модели\n",
    "def train(positive_examples, negative_examples, num_iterations = 100):\n",
    "    # определяем размерность (кол-во столбцов) матрицы [признаки объектов, ответ]\n",
    "    num_dims = positive_examples.shape[1]\n",
    "    \n",
    "    # инициализируем вектор весов (вес каждого входа (признака), порог функции активации)\n",
    "    weights = np.zeros((num_dims, 1))\n",
    "    \n",
    "    # получаем количество объектов из каждой выборки\n",
    "    pos_count = positive_examples.shape[0]\n",
    "    neg_count = negative_examples.shape[0]\n",
    "    \n",
    "    # частота вывода результатов (через сколько итераций выводить результат обучения модели)\n",
    "    report_frequency = 10\n",
    "    \n",
    "    # цикл по количеству итераций\n",
    "    for i in range(num_iterations):\n",
    "        # случайным образом выбирается объект из каждой выборки\n",
    "        pos = random.choice(positive_examples)\n",
    "        neg = random.choice(negative_examples)\n",
    "\n",
    "        # скалярное произведение вектора \"позитивного\" объекта на вектор весов\n",
    "        z = np.dot(pos, weights)\n",
    "        \n",
    "        # если \"позитивный\" объект определен как \"негативный\",\n",
    "        # значит персептрон не возбудился, и нужно увеличить веса, \n",
    "        # которые участвовали в получении результата определения класса объекта \n",
    "        if z < 0:\n",
    "            # Добавляем к весам значения принаков текущего \"позитивного\" объекта:\n",
    "            # i-тый вес увеличивается на i-тый признак\n",
    "            # последний вес увеличивается на ответ (т.е. +1)\n",
    "            weights = weights + pos.reshape(weights.shape)\n",
    "\n",
    "        # скалярное произведение вектора \"негативного\" объекта на вектор весов\n",
    "        z  = np.dot(neg, weights)\n",
    "        \n",
    "        # если \"негативный\" объект определен как \"позитивный\", \n",
    "        # значит персептрон возбудился, и нужно уменьшить веса, \n",
    "        # которые участвовали в получении результата определения класса объекта \n",
    "        if z >= 0:\n",
    "            # Вычитаем из весов значения принаков текущего \"негативного\" объекта:\n",
    "            # i-тый вес уменьшается на i-тый признак\n",
    "            # последний вес уменьшается на ответ (т.е. -1)\n",
    "            weights = weights - neg.reshape(weights.shape)\n",
    "            \n",
    "        # если это итерация, при котором выводится результат\n",
    "        if i % report_frequency == 0:             \n",
    "            # результаты выходов: скалярное умножение матрицы обучающей выборки на вектор весов\n",
    "            # определение классов объектов\n",
    "            pos_out = np.dot(positive_examples, weights)\n",
    "            neg_out = np.dot(negative_examples, weights)        \n",
    "            \n",
    "            # получение доли соответствия знака объектов в соответствующих выборках\n",
    "            pos_correct = (pos_out >= 0).sum() / float(pos_count)\n",
    "            neg_correct = (neg_out < 0).sum() / float(neg_count)\n",
    "            \n",
    "            # вывод:\n",
    "            # Iteration - номер итерации\n",
    "            # pos correct - точность определения позитивных объектов\n",
    "            # neg correct - точность определения негативных объектов\n",
    "            print(\"Iteration={0:0.2f}, pos correct={1:0.2f}, neg correct={2:0.2f}\".format(i,pos_correct,neg_correct))\n",
    "\n",
    "    # возращаем веса\n",
    "    return weights"
   ]
  },
  {
   "cell_type": "markdown",
   "metadata": {},
   "source": [
    "**[numpy.transpose()](https://numpy.org/doc/stable/reference/generated/numpy.transpose.html)** - транспонирует (меняет оси в обратном порядке) или перемещает оси массива в указанные положения"
   ]
  },
  {
   "cell_type": "code",
   "execution_count": 11,
   "metadata": {
    "slideshow": {
     "slide_type": "slide"
    }
   },
   "outputs": [
    {
     "name": "stdout",
     "output_type": "stream",
     "text": [
      "Iteration=0.00, pos correct=0.63, neg correct=1.00\n",
      "Iteration=10.00, pos correct=0.74, neg correct=1.00\n",
      "Iteration=20.00, pos correct=0.89, neg correct=0.86\n",
      "Iteration=30.00, pos correct=0.89, neg correct=1.00\n",
      "Iteration=40.00, pos correct=0.89, neg correct=1.00\n",
      "Iteration=50.00, pos correct=0.84, neg correct=1.00\n",
      "Iteration=60.00, pos correct=0.89, neg correct=0.95\n",
      "Iteration=70.00, pos correct=0.84, neg correct=1.00\n",
      "Iteration=80.00, pos correct=0.84, neg correct=0.95\n",
      "Iteration=90.00, pos correct=0.89, neg correct=0.95\n",
      "Вывод весов:\n",
      " [[-0.58771984]\n",
      " [ 4.95571582]\n",
      " [ 1.        ]]\n",
      "Вывод весов, после транспонирования матрицы:\n",
      " [[-0.58771984  4.95571582  1.        ]]\n"
     ]
    }
   ],
   "source": [
    "# обучение модели и получение весов\n",
    "wts = train(pos_examples,neg_examples)\n",
    "\n",
    "print(f'Вывод весов:\\n {wts}')\n",
    "print(f'Вывод весов, после транспонирования матрицы:\\n {wts.transpose()}')"
   ]
  },
  {
   "cell_type": "markdown",
   "metadata": {},
   "source": [
    "**[numpy.isclose()](https://numpy.org/doc/stable/reference/generated/numpy.isclose.html)** - возвращает логический массив, в котором два массива поэлементно равны в пределах допуска\n",
    "\n",
    "**[matplotlib.pyplot.xlim()](https://matplotlib.org/stable/api/_as_gen/matplotlib.pyplot.xlim.html)** - получение или установка пределов **x** текущих осей\n",
    "\n",
    "**[matplotlib.pyplot.ylim()](https://matplotlib.org/stable/api/_as_gen/matplotlib.pyplot.ylim.html)** - получение или установка пределов **y** текущих осей\n",
    "\n",
    "**[numpy.array()](https://numpy.org/doc/stable/reference/generated/numpy.array.html)** - создание массива"
   ]
  },
  {
   "cell_type": "code",
   "execution_count": 12,
   "metadata": {},
   "outputs": [
    {
     "data": {
      "text/plain": [
       "[<matplotlib.lines.Line2D at 0x1d2a0f2aeb0>]"
      ]
     },
     "execution_count": 12,
     "metadata": {},
     "output_type": "execute_result"
    },
    {
     "data": {
      "image/png": "[encoded data removed]",
      "text/plain": [
       "<Figure size 432x288 with 1 Axes>"
      ]
     },
     "metadata": {
      "needs_background": "light"
     },
     "output_type": "display_data"
    }
   ],
   "source": [
    "plt.xlim(-6, 6)\n",
    "plt.ylim(-6, 6)\n",
    "plt.plot([-2, 3], [-6, 6], 'g', linewidth=2.0)"
   ]
  },
  {
   "cell_type": "code",
   "execution_count": 13,
   "metadata": {
    "slideshow": {
     "slide_type": "skip"
    }
   },
   "outputs": [],
   "source": [
    "# функция вывода графика линейного классификатора\n",
    "# positive_examples - выборка позитивных объектов\n",
    "# negative_examples - выборка негативных объектов\n",
    "# weights - веса\n",
    "def plot_boundary(positive_examples, negative_examples, weights):\n",
    "    # если второй вес близок нулю\n",
    "    if np.isclose(weights[1], 0):\n",
    "        # если первый вес близок нулю\n",
    "        if np.isclose(weights[0], 0):\n",
    "            # задаем границы прямой по x и y. В данном случае это диагональ квадрата\n",
    "            x = y = np.array([-6, 6], dtype = 'float32')\n",
    "        else:\n",
    "            # задаем границы прямой по y\n",
    "            y = np.array([-6, 6], dtype='float32')\n",
    "            \n",
    "            # масштабируем границы прямой по x по первому весу\n",
    "            x = -(weights[1] * y + weights[2])/weights[0]\n",
    "    else:\n",
    "        # задаем границы прямой по y\n",
    "        x = np.array([-6, 6], dtype='float32')\n",
    "        \n",
    "        # масштабируем границы прямой по y по второму весу\n",
    "        y = -(weights[0] * x + weights[2])/weights[1]\n",
    "    \n",
    "    # задаем границы вывода графика\n",
    "    plt.xlim(-6, 6)\n",
    "    plt.ylim(-6, 6)                \n",
    "    \n",
    "    # добавляем в виде точек разных цветов объекты разных классов\n",
    "    plt.plot(positive_examples[:,0], positive_examples[:,1], 'bo')\n",
    "    plt.plot(negative_examples[:,0], negative_examples[:,1], 'ro')\n",
    "    \n",
    "    # строим линию перехода между классами\n",
    "    plt.plot(x, y, 'g', linewidth=2.0)\n",
    "    \n",
    "    # выводим график\n",
    "    plt.show()"
   ]
  },
  {
   "cell_type": "code",
   "execution_count": 14,
   "metadata": {
    "slideshow": {
     "slide_type": "slide"
    }
   },
   "outputs": [
    {
     "data": {
      "image/png": "[encoded data removed]",
      "text/plain": [
       "<Figure size 432x288 with 1 Axes>"
      ]
     },
     "metadata": {
      "needs_background": "light"
     },
     "output_type": "display_data"
    }
   ],
   "source": [
    "# вывод графика линейного классификатора\n",
    "plot_boundary(pos_examples,neg_examples,wts)"
   ]
  },
  {
   "cell_type": "markdown",
   "metadata": {
    "slideshow": {
     "slide_type": "slide"
    }
   },
   "source": [
    "## Проверяем на тестовой выборке"
   ]
  },
  {
   "cell_type": "markdown",
   "metadata": {},
   "source": [
    "**[numpy.c_[args]](https://numpy.org/doc/stable/reference/generated/numpy.c_.html)** - преобразует срез в столбец, а последовательности соединяет вдоль второй оси\n",
    "\n",
    "**[numpy.ones(args)](https://numpy.org/doc/stable/reference/generated/numpy.ones.html)** - возвращает новый массив указанной формы и типа, заполненный единицами"
   ]
  },
  {
   "cell_type": "code",
   "execution_count": 15,
   "metadata": {
    "slideshow": {
     "slide_type": "fragment"
    }
   },
   "outputs": [
    {
     "name": "stdout",
     "output_type": "stream",
     "text": [
      "Точность классификации моделью персептрона на тестовой выборке: 1.00\n"
     ]
    }
   ],
   "source": [
    "# функция получения точности работы персептрона на тестовой выборке\n",
    "# weights - веса мадели нейронной сети персептрона\n",
    "# test_x - тестовая выборка признаков объектов\n",
    "# test_labels - текстовая выборка ответов объектов\n",
    "def accuracy_on_test(weights, test_x, test_labels):\n",
    "    # получение результата работы персептрона на тестовых данных\n",
    "    y_pred = np.dot(np.c_[test_x,np.ones(len(test_x))],weights)\n",
    "    \n",
    "    # получение доли соответствия знака объектов при сравнении результата работы персептрона и тестовой выборки\n",
    "    clf_accuracy = (y_pred.reshape(test_labels.shape)*test_labels>=0).sum()/float(len(test_labels))\n",
    "    \n",
    "    # выозврашение точности\n",
    "    return clf_accuracy\n",
    "\n",
    "clf_accuracy = accuracy_on_test(wts, test_x, test_labels)\n",
    "print(\"Точность классификации моделью персептрона на тестовой выборке: {0:0.2f}\".format(clf_accuracy))"
   ]
  },
  {
   "cell_type": "markdown",
   "metadata": {
    "slideshow": {
     "slide_type": "slide"
    }
   },
   "source": [
    "## Посмотрим, как меняется точность обучения"
   ]
  },
  {
   "cell_type": "code",
   "execution_count": 16,
   "metadata": {
    "slideshow": {
     "slide_type": "skip"
    }
   },
   "outputs": [],
   "source": [
    "# функция записи в буфер весов и усредненной доли правильных ответов\n",
    "# positive_examples - выборка \"позитивных\" объектов\n",
    "# negative_examples - выборка \"негативных\" объектов\n",
    "# num_iterations - количество итераций\n",
    "def train_graph(positive_examples, negative_examples, num_iterations = 100):\n",
    "    num_dims = positive_examples.shape[1]\n",
    "    weights = np.zeros((num_dims,1)) # инициализируем веса\n",
    "    \n",
    "    pos_count = positive_examples.shape[0]\n",
    "    neg_count = negative_examples.shape[0]\n",
    "    \n",
    "    report_frequency = 15;\n",
    "    snapshots = []\n",
    "    \n",
    "    for i in range(num_iterations):\n",
    "        pos = random.choice(positive_examples)\n",
    "        neg = random.choice(negative_examples)\n",
    "\n",
    "        z = np.dot(pos, weights)   \n",
    "        if z < 0:\n",
    "            weights = weights + pos.reshape(weights.shape)\n",
    "\n",
    "        z  = np.dot(neg, weights)\n",
    "        if z >= 0:\n",
    "            weights = weights - neg.reshape(weights.shape)\n",
    "            \n",
    "        if i % report_frequency == 0:             \n",
    "            pos_out = np.dot(positive_examples, weights)\n",
    "            neg_out = np.dot(negative_examples, weights)        \n",
    "            pos_correct = (pos_out >= 0).sum() / float(pos_count)\n",
    "            neg_correct = (neg_out < 0).sum() / float(neg_count)\n",
    "            \n",
    "            # запись в буфер весов и усредненной доли правильных ответов\n",
    "            snapshots.append((np.copy(weights),(pos_correct+neg_correct)/2.0))\n",
    "    \n",
    "    # возвращение массива весов и усредненных долей правильных ответов\n",
    "    return np.array(snapshots, dtype=object)"
   ]
  },
  {
   "cell_type": "code",
   "execution_count": 17,
   "metadata": {},
   "outputs": [],
   "source": [
    "# запись в массив весов и усредненных долей правильных ответов\n",
    "snapshots = train_graph(pos_examples,neg_examples)"
   ]
  },
  {
   "cell_type": "code",
   "execution_count": 18,
   "metadata": {},
   "outputs": [],
   "source": [
    "# функции отображения графиков на каждом шаге\n",
    "def plotit(pos_examples,neg_examples,snapshots,step):\n",
    "    fig = plt.figure(figsize=(10,4))\n",
    "    fig.add_subplot(1, 2, 1)\n",
    "    plot_boundary(pos_examples, neg_examples, snapshots[step][0])\n",
    "    fig.add_subplot(1, 2, 2)\n",
    "    plt.plot(np.arange(len(snapshots[:,1])), snapshots[:,1])\n",
    "    plt.ylabel('Accuracy')\n",
    "    plt.xlabel('Iteration')\n",
    "    plt.plot(step, snapshots[step,1], \"bo\")\n",
    "    plt.show()\n",
    "def pl1(step): plotit(pos_examples,neg_examples,snapshots,step)"
   ]
  },
  {
   "cell_type": "code",
   "execution_count": 19,
   "metadata": {
    "slideshow": {
     "slide_type": "slide"
    }
   },
   "outputs": [
    {
     "data": {
      "application/vnd.jupyter.widget-view+json": {
       "model_id": "b5c4809682a341d181d89b23d6284949",
       "version_major": 2,
       "version_minor": 0
      },
      "text/plain": [
       "interactive(children=(IntSlider(value=0, description='step', max=6), Output()), _dom_classes=('widget-interact…"
      ]
     },
     "metadata": {},
     "output_type": "display_data"
    },
    {
     "data": {
      "text/plain": [
       "<function __main__.pl1(step)>"
      ]
     },
     "execution_count": 19,
     "metadata": {},
     "output_type": "execute_result"
    }
   ],
   "source": [
    "# пошаговая иллюсраниця изменения весов и линии разделения классов\n",
    "interact(pl1, step=widgets.IntSlider(value=0, min=0, max=len(snapshots)-1))"
   ]
  },
  {
   "cell_type": "markdown",
   "metadata": {
    "slideshow": {
     "slide_type": "slide"
    }
   },
   "source": [
    "## Ограниченность персептрона\n",
    "\n",
    "Типичный пример нерешаемой задачи - **исключающее или** (XOR problem)\n",
    "\n",
    "|   | 0 | 1 |\n",
    "|---|---|---|\n",
    "| 0 | 0 | 1 | \n",
    "| 1 | 1 | 0 |"
   ]
  },
  {
   "cell_type": "code",
   "execution_count": 20,
   "metadata": {
    "slideshow": {
     "slide_type": "slide"
    }
   },
   "outputs": [],
   "source": [
    "pos_examples_xor = np.array([[1,0,1],[0,1,1]])\n",
    "neg_examples_xor = np.array([[1,1,1],[0,0,1]])\n",
    "\n",
    "snapshots_xor = train_graph(pos_examples_xor,neg_examples_xor,1000)\n",
    "def pl2(step): plotit(pos_examples_xor,neg_examples_xor,snapshots_xor,step)"
   ]
  },
  {
   "cell_type": "code",
   "execution_count": 21,
   "metadata": {
    "slideshow": {
     "slide_type": "slide"
    }
   },
   "outputs": [
    {
     "data": {
      "application/vnd.jupyter.widget-view+json": {
       "model_id": "ead1f1611dcd4bcab0fbd193df371731",
       "version_major": 2,
       "version_minor": 0
      },
      "text/plain": [
       "interactive(children=(IntSlider(value=0, description='step', max=6), Output()), _dom_classes=('widget-interact…"
      ]
     },
     "metadata": {},
     "output_type": "display_data"
    },
    {
     "data": {
      "text/plain": [
       "<function __main__.pl2(step)>"
      ]
     },
     "execution_count": 21,
     "metadata": {},
     "output_type": "execute_result"
    }
   ],
   "source": [
    "interact(pl2, step=widgets.IntSlider(value=0, min=0, max=len(snapshots)-1))"
   ]
  },
  {
   "cell_type": "markdown",
   "metadata": {
    "slideshow": {
     "slide_type": "slide"
    }
   },
   "source": [
    "## Сложный пример - MNIST\n",
    "\n",
    "Modified National Institute of Standards and Technology\n",
    "\n",
    "https://www.kaggle.com/c/digit-recognizer\n",
    "\n",
    "  * Рукописные цифры, собранные с сотрудников института стандартов и учащихся, около 250 человек\n",
    "  * 60000 обучающая выборка, 10000 тестовая выборка, собранная от разных групп\n",
    "  * Изображения в градациях серого, 28x28"
   ]
  },
  {
   "cell_type": "code",
   "execution_count": 22,
   "metadata": {},
   "outputs": [],
   "source": [
    "# !pip install rm\n",
    "# !pip install wget\n",
    "# !pip install gzip-reader"
   ]
  },
  {
   "cell_type": "code",
   "execution_count": 23,
   "metadata": {
    "slideshow": {
     "slide_type": "slide"
    }
   },
   "outputs": [],
   "source": [
    "# не заработало!\n",
    "# !rm *.pkl\n",
    "# !wget https://raw.githubusercontent.com/shwars/NeuroWorkshop/master/Data/MNIST/mnist.pkl.gz\n",
    "# !gzip -d mnist.pkl.gz"
   ]
  },
  {
   "cell_type": "code",
   "execution_count": 24,
   "metadata": {},
   "outputs": [],
   "source": [
    "with open('../Data/MNIST/mnist.pkl', 'rb') as mnist_pickle:\n",
    "    MNIST = pickle.load(mnist_pickle)"
   ]
  },
  {
   "cell_type": "code",
   "execution_count": 25,
   "metadata": {
    "slideshow": {
     "slide_type": "slide"
    }
   },
   "outputs": [
    {
     "name": "stdout",
     "output_type": "stream",
     "text": [
      "[  0   0 188 255  94   0   0   0   0   0   0   0   0   0   0   0   0   0\n",
      "   0   0   0   0   0   0   0   0   0   0   0 191 250 253  93   0   0   0\n",
      "   0   0   0   0   0   0   0   0   0   0   0   0   0   0]\n",
      "1\n"
     ]
    },
    {
     "data": {
      "image/png": "[encoded data removed]",
      "text/plain": [
       "<Figure size 720x360 with 10 Axes>"
      ]
     },
     "metadata": {
      "needs_background": "light"
     },
     "output_type": "display_data"
    }
   ],
   "source": [
    "print(MNIST['Train']['Features'][0][130:180])\n",
    "print(MNIST['Train']['Labels'][0])\n",
    "features = MNIST['Train']['Features'].astype(np.float32) / 256.0\n",
    "labels = MNIST['Train']['Labels']\n",
    "fig = plt.figure(figsize=(10,5))\n",
    "for i in range(10):\n",
    "    ax = fig.add_subplot(1,10,i+1)\n",
    "    plt.imshow(features[i].reshape(28,28))\n",
    "plt.show()"
   ]
  },
  {
   "cell_type": "code",
   "execution_count": 26,
   "metadata": {
    "slideshow": {
     "slide_type": "slide"
    }
   },
   "outputs": [],
   "source": [
    "def set_mnist_pos_neg(positive_label, negative_label):\n",
    "    positive_indices = [i for i, j in enumerate(MNIST['Train']['Labels']) \n",
    "                          if j == positive_label]\n",
    "    negative_indices = [i for i, j in enumerate(MNIST['Train']['Labels']) \n",
    "                          if j == negative_label]\n",
    "\n",
    "    positive_images = MNIST['Train']['Features'][positive_indices]\n",
    "    negative_images = MNIST['Train']['Features'][negative_indices]\n",
    "\n",
    "    fig = plt.figure()\n",
    "    ax = fig.add_subplot(1, 2, 1)\n",
    "    pylab.imshow(positive_images[0].reshape(28,28), cmap='gray', interpolation='nearest')\n",
    "    ax.set_xticks([])\n",
    "    ax.set_yticks([])\n",
    "    ax = fig.add_subplot(1, 2, 2)\n",
    "    pylab.imshow(negative_images[0].reshape(28,28), cmap='gray', interpolation='nearest')\n",
    "    ax.set_xticks([])\n",
    "    ax.set_yticks([])\n",
    "    pylab.show()\n",
    "    \n",
    "    return positive_images, negative_images"
   ]
  },
  {
   "cell_type": "code",
   "execution_count": 27,
   "metadata": {
    "slideshow": {
     "slide_type": "slide"
    }
   },
   "outputs": [
    {
     "data": {
      "image/png": "[encoded data removed]",
      "text/plain": [
       "<Figure size 432x288 with 2 Axes>"
      ]
     },
     "metadata": {},
     "output_type": "display_data"
    }
   ],
   "source": [
    "pos1,neg1 = set_mnist_pos_neg(1,0)"
   ]
  },
  {
   "cell_type": "code",
   "execution_count": 28,
   "metadata": {
    "slideshow": {
     "slide_type": "skip"
    }
   },
   "outputs": [],
   "source": [
    "def plotit2(snapshots_mn,step):\n",
    "    fig = pylab.figure(figsize=(10,4))\n",
    "    ax = fig.add_subplot(1, 2, 1)\n",
    "    pylab.imshow(snapshots_mn[step][0].reshape(28, 28), interpolation='nearest')\n",
    "    ax.set_xticks([])\n",
    "    ax.set_yticks([])\n",
    "    pylab.colorbar()\n",
    "    ax = fig.add_subplot(1, 2, 2)\n",
    "    ax.set_ylim([0,1])\n",
    "    pylab.plot(np.arange(len(snapshots_mn[:,1])), snapshots_mn[:,1])\n",
    "    pylab.plot(step, snapshots_mn[step,1], \"bo\")\n",
    "    pylab.show()\n",
    "def pl3(step): plotit2(snapshots_mn,step)\n",
    "def pl4(step): plotit2(snapshots_mn2,step)    "
   ]
  },
  {
   "cell_type": "code",
   "execution_count": 29,
   "metadata": {
    "slideshow": {
     "slide_type": "slide"
    }
   },
   "outputs": [
    {
     "data": {
      "application/vnd.jupyter.widget-view+json": {
       "model_id": "0c5e85bc367048eeac23a96fc006aedd",
       "version_major": 2,
       "version_minor": 0
      },
      "text/plain": [
       "interactive(children=(IntSlider(value=0, description='step', max=66), Output()), _dom_classes=('widget-interac…"
      ]
     },
     "metadata": {},
     "output_type": "display_data"
    },
    {
     "data": {
      "text/plain": [
       "<function __main__.pl3(step)>"
      ]
     },
     "execution_count": 29,
     "metadata": {},
     "output_type": "execute_result"
    }
   ],
   "source": [
    "snapshots_mn = train_graph(pos1,neg1,1000)    \n",
    "interact(pl3, step=widgets.IntSlider(value=0, min=0, max=len(snapshots_mn) - 1))"
   ]
  },
  {
   "cell_type": "code",
   "execution_count": 30,
   "metadata": {
    "scrolled": true,
    "slideshow": {
     "slide_type": "slide"
    }
   },
   "outputs": [
    {
     "data": {
      "image/png": "[encoded data removed]",
      "text/plain": [
       "<Figure size 432x288 with 2 Axes>"
      ]
     },
     "metadata": {},
     "output_type": "display_data"
    }
   ],
   "source": [
    "pos2,neg2 = set_mnist_pos_neg(2,5)"
   ]
  },
  {
   "cell_type": "code",
   "execution_count": 31,
   "metadata": {
    "slideshow": {
     "slide_type": "slide"
    }
   },
   "outputs": [
    {
     "data": {
      "application/vnd.jupyter.widget-view+json": {
       "model_id": "f83429542c874fafb4c6f157a99df80b",
       "version_major": 2,
       "version_minor": 0
      },
      "text/plain": [
       "interactive(children=(IntSlider(value=0, description='step', max=66), Output()), _dom_classes=('widget-interac…"
      ]
     },
     "metadata": {},
     "output_type": "display_data"
    },
    {
     "data": {
      "text/plain": [
       "<function __main__.pl4(step)>"
      ]
     },
     "execution_count": 31,
     "metadata": {},
     "output_type": "execute_result"
    }
   ],
   "source": [
    "snapshots_mn2 = train_graph(pos2,neg2,1000)\n",
    "interact(pl4, step=widgets.IntSlider(value=0, min=0, max=len(snapshots_mn2) - 1))"
   ]
  },
  {
   "cell_type": "markdown",
   "metadata": {
    "slideshow": {
     "slide_type": "slide"
    }
   },
   "source": [
    "## В чем разница?\n",
    "\n",
    "Почему-то 1 и 0 разделяются намного лучше, чем 2 и 5. \n",
    "\n",
    "Для понимания причины, используем [метод главных компонент](https://ru.wikipedia.org/wiki/%D0%9C%D0%B5%D1%82%D0%BE%D0%B4_%D0%B3%D0%BB%D0%B0%D0%B2%D0%BD%D1%8B%D1%85_%D0%BA%D0%BE%D0%BC%D0%BF%D0%BE%D0%BD%D0%B5%D0%BD%D1%82).\n",
    "\n",
    "**Идея**: выделяем из множества входных фич (784 шт.) подмножество меньшей размерности, которое позволяет максимально репрезентативно разделить множества примеров."
   ]
  },
  {
   "cell_type": "code",
   "execution_count": 32,
   "metadata": {
    "slideshow": {
     "slide_type": "fragment"
    }
   },
   "outputs": [],
   "source": [
    "from sklearn.decomposition import PCA\n",
    "\n",
    "def pca_analysis(positive_label, negative_label):\n",
    "    positive_images, negative_images = set_mnist_pos_neg(positive_label, negative_label)\n",
    "    M = np.append(positive_images, negative_images, 0)\n",
    "\n",
    "    mypca = PCA(n_components=2)\n",
    "    mypca.fit(M)\n",
    "    \n",
    "    pos_points = mypca.transform(positive_images[:200])\n",
    "    neg_points = mypca.transform(negative_images[:200])\n",
    "\n",
    "    pylab.plot(pos_points[:,0], pos_points[:,1], 'bo')\n",
    "    pylab.plot(neg_points[:,0], neg_points[:,1], 'ro')"
   ]
  },
  {
   "cell_type": "code",
   "execution_count": 33,
   "metadata": {
    "slideshow": {
     "slide_type": "slide"
    }
   },
   "outputs": [
    {
     "data": {
      "image/png": "[encoded data removed]",
      "text/plain": [
       "<Figure size 432x288 with 2 Axes>"
      ]
     },
     "metadata": {},
     "output_type": "display_data"
    },
    {
     "data": {
      "image/png": "[encoded data removed]",
      "text/plain": [
       "<Figure size 432x288 with 1 Axes>"
      ]
     },
     "metadata": {
      "needs_background": "light"
     },
     "output_type": "display_data"
    }
   ],
   "source": [
    "pca_analysis(1,0)"
   ]
  },
  {
   "cell_type": "code",
   "execution_count": 34,
   "metadata": {
    "slideshow": {
     "slide_type": "slide"
    }
   },
   "outputs": [
    {
     "data": {
      "image/png": "[encoded data removed]",
      "text/plain": [
       "<Figure size 432x288 with 2 Axes>"
      ]
     },
     "metadata": {},
     "output_type": "display_data"
    },
    {
     "data": {
      "image/png": "[encoded data removed]",
      "text/plain": [
       "<Figure size 432x288 with 1 Axes>"
      ]
     },
     "metadata": {
      "needs_background": "light"
     },
     "output_type": "display_data"
    }
   ],
   "source": [
    "pca_analysis(2,5)"
   ]
  },
  {
   "cell_type": "markdown",
   "metadata": {
    "slideshow": {
     "slide_type": "slide"
    }
   },
   "source": [
    "## Выводы\n",
    "\n",
    " * Мы научились создавать простейшую конфигурацию нейросети - однослойный персептрон\n",
    " * При этом такие сети уже могут решать весьма нетривиальные задачи\n",
    " * Тем не менее, однослойный персептрон по сути эквивалентен логистической регрессии, т.е. класс эффективно решаемых задач ограничен\n",
    " * В пространстве состояний однослойный персептрон может разделить два класса объектов гиперплоскостью"
   ]
  },
  {
   "cell_type": "code",
   "execution_count": null,
   "metadata": {},
   "outputs": [],
   "source": []
  }
 ],
 "metadata": {
  "celltoolbar": "Slideshow",
  "kernelspec": {
   "display_name": "Python 3",
   "language": "python",
   "name": "python3"
  },
  "language_info": {
   "codemirror_mode": {
    "name": "ipython",
    "version": 3
   },
   "file_extension": ".py",
   "mimetype": "text/x-python",
   "name": "python",
   "nbconvert_exporter": "python",
   "pygments_lexer": "ipython3",
   "version": "3.8.5"
  },
  "livereveal": {
   "start_slideshow_at": "selected"
  }
 },
 "nbformat": 4,
 "nbformat_minor": 4
}
