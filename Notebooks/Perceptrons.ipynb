{
 "cells": [
  {
   "cell_type": "markdown",
   "metadata": {
    "collapsed": true,
    "slideshow": {
     "slide_type": "slide"
    }
   },
   "source": [
    "# Введение в нейронные сети\n",
    "\n",
    "## Эпизод 1: Персептрон\n",
    "\n",
    "Дмитрий Сошников\n",
    "\n",
    "технологический евангелист, Microsoft\n",
    "\n",
    "dmitryso@microsoft.com"
   ]
  },
  {
   "cell_type": "markdown",
   "metadata": {
    "slideshow": {
     "slide_type": "skip"
    }
   },
   "source": [
    "Данная презентация представляет собой введение в нейронные сети. Идея однодневного мастер-класса основана на Neural Network Workshop в Microsoft Research Cambridge. Материал и фрагменты кода частично взяты из презентаций [Katja Hoffmann](https://www.microsoft.com/en-us/research/people/kahofman/), [Matthew Johnson](https://www.microsoft.com/en-us/research/people/matjoh/) и [Ryoto Tomioka](https://www.microsoft.com/en-us/research/people/ryoto/) из Microsoft Research Cambridge. [NeuroWorkshop](http://github.com/shwars/NeuroWorkshop) подготовлен [Дмитрием Сошниковым](http://blog.soshnikov.com), Microsoft Russia."
   ]
  },
  {
   "cell_type": "markdown",
   "metadata": {
    "slideshow": {
     "slide_type": "slide"
    }
   },
   "source": [
    "## Два взгляда на нейронные сети\n",
    "\n",
    " * Восходящий подход к искусственному интеллекту\n",
    " * Способ усложнения и комбинирования базовых алгоритмов машинного обучения\n",
    "     - обучение с учителем (*supervised learning*)\n",
    "     - обучение без учителя (*unsupervised learning*)"
   ]
  },
  {
   "cell_type": "markdown",
   "metadata": {
    "collapsed": true,
    "slideshow": {
     "slide_type": "slide"
    }
   },
   "source": [
    "## Обучение с учителем\n",
    "\n",
    "**Дано:**\n",
    "  * Обучающая выборка $\\mathbf{X} \\in \\mathbb{R}^{n \\times k}$\n",
    "    * $n$ - размер выборки\n",
    "    * $x_i$ представлено вектором свойств размерности $k$\n",
    "  * Известные значения целевой функции $\\mathbf{Y}$ ($y_i$ соответствует вектору свойств $x_i$)\n",
    "    * $\\mathbf{Y} \\in \\mathbb{R}^{n \\times 1}$ (задачи регрессии)\n",
    "    * $\\mathbf{Y} \\in C^{n \\times 1}$, где $y_i \\in C$ (задачи классификации на $|C|$ классов)\n"
   ]
  },
  {
   "cell_type": "markdown",
   "metadata": {
    "slideshow": {
     "slide_type": "slide"
    }
   },
   "source": [
    "## Задача\n",
    "\n",
    "**Дано:**\n",
    "  * Обучающая выборка $\\mathbf{X} \\in \\mathbb{R}^{n \\times k}$\n",
    "  * Входные значение целевой функции $\\mathbf{Y}$\n",
    "\n",
    "**Необходимо построить:**\n",
    "  * Функцию $f : \\mathbf{X} \\rightarrow \\mathbf{Y}$ который _точно предсказывает_ значение целевой функции на новом наборе входных данных $\\mathbf{X}_{new}$\n"
   ]
  },
  {
   "cell_type": "markdown",
   "metadata": {},
   "source": [
    "**[matplotlib.gridspec](https://matplotlib.org/stable/api/gridspec_api.html)** - содержит классы, которые помогают размещать несколько осей в виде сетки в пределах фигуры\n",
    "\n",
    "**[sklearn (Scikit-learn)](https://scikit-learn.org/stable/)** - один из наиболее широко используемых пакетов **Python** для **Data Science** и **Machine Learning**. Он позволяет выполнять множество операций и предоставляет множество алгоритмов)\n",
    "\n",
    "Установка **Scikit-learn**:\n",
    "- `conda install -c anaconda scikit-learn`\n",
    "\n",
    "Модуль **[sklearn.datasets](https://scikit-learn.org/stable/modules/classes.html#module-sklearn.datasets)** включает в себя утилиты для загрузки наборов данных, включая методы для загрузки и получения популярных справочных наборов данных. Также есть несколько генераторов искусственных данных\n",
    "\n",
    "**[sklearn.datasets.make_classification](https://scikit-learn.org/stable/modules/generated/sklearn.datasets.make_classification.html?highlight=make_classification#sklearn.datasets.make_classification)** модуль для создания случайных задач классификации n-классов\n",
    "\n",
    "Модуль **[pickle](https://docs.python.org/3/library/pickle.html)** реализует двоичные протоколы для сериализации и десериализации структуры объекта **Python**\n",
    "\n",
    "Mодуль **[random](https://docs.python.org/3/library/random.html)** реализует генераторы псевдослучайных чисел для различных распределений"
   ]
  },
  {
   "cell_type": "code",
   "execution_count": 1,
   "metadata": {
    "slideshow": {
     "slide_type": "skip"
    }
   },
   "outputs": [],
   "source": [
    "import matplotlib.pyplot as plt\n",
    "from matplotlib import gridspec\n",
    "from sklearn.datasets import make_classification\n",
    "import numpy as np\n",
    "from ipywidgets import interact, interactive, fixed\n",
    "import ipywidgets as widgets\n",
    "import pickle\n",
    "import os\n",
    "\n",
    "\n",
    "# инициализация генератора случайных чисел\n",
    "np.random.seed(1)\n",
    "import random"
   ]
  },
  {
   "cell_type": "markdown",
   "metadata": {
    "slideshow": {
     "slide_type": "slide"
    }
   },
   "source": [
    "## Пример\n",
    "Рассмотрим пример двухмерной задачи классификации на 2 класса. Примером такой задачи может быть классификация опухоли на 2 типа - доброкачественная и злокачественная, в зависимости от её размера и возраста."
   ]
  },
  {
   "cell_type": "code",
   "execution_count": 7,
   "metadata": {},
   "outputs": [
    {
     "name": "stdout",
     "output_type": "stream",
     "text": [
      "Признаки объектов:\n",
      " [[ 1.4073035   0.96076371]\n",
      " [-1.59004286 -1.4035089 ]\n",
      " [ 0.93604653 -1.21023732]\n",
      " [ 1.14241451  0.54125195]\n",
      " [-1.75119051  1.15537626]\n",
      " [ 0.26569116 -0.22919697]\n",
      " [ 1.05358338  0.34946185]\n",
      " [ 0.66456387  0.13812476]\n",
      " [-1.93548727 -1.34450489]\n",
      " [ 1.69474721  1.11680836]\n",
      " [ 0.30602265  0.80005223]\n",
      " [-0.9957266   1.0217206 ]\n",
      " [ 0.99969015  0.68630973]\n",
      " [-0.7908847  -0.99048735]\n",
      " [-0.6337448   1.0424909 ]\n",
      " [ 0.88149492 -2.75583803]\n",
      " [-2.33858458  1.17265293]\n",
      " [-1.83530989  1.02662168]\n",
      " [ 1.95863456  0.85551182]\n",
      " [-2.15161235 -1.58509588]\n",
      " [ 1.22482658  0.52690836]\n",
      " [ 0.27290221  0.91360878]\n",
      " [-1.86928842 -1.57992221]\n",
      " [-0.02416015 -0.33862698]\n",
      " [ 0.94447693 -2.11718001]\n",
      " [ 1.02556069 -0.07476384]\n",
      " [ 1.17853262 -0.35217866]\n",
      " [ 1.0958732   1.35072696]\n",
      " [-0.31548079  0.87001786]\n",
      " [ 2.27184392  0.79321006]\n",
      " [-1.63800076  1.15858469]\n",
      " [ 1.04517722  0.58303897]\n",
      " [ 1.01856431 -1.01189818]\n",
      " [-0.74688707  0.96638049]\n",
      " [-0.57342981 -0.6916509 ]\n",
      " [-0.38385209  1.04606741]\n",
      " [ 1.1646228   0.56240249]\n",
      " [-1.47549458 -1.33614894]\n",
      " [-0.43315605 -0.62381456]\n",
      " [ 0.19352616  1.31971301]\n",
      " [ 0.09483696  0.77959   ]\n",
      " [ 1.11304692  0.58200561]\n",
      " [ 0.36018206  0.89860367]\n",
      " [ 0.88998894 -1.72359335]\n",
      " [-0.36200671 -0.61116258]\n",
      " [ 0.92379309 -1.49272036]\n",
      " [ 0.71122787  0.70887777]\n",
      " [ 0.9607161  -1.64048034]\n",
      " [-2.53657966  1.22209939]\n",
      " [-1.88099377 -1.59261498]]\n",
      "Классы объектов:\n",
      " [1 0 1 1 0 0 1 0 0 1 0 0 1 0 0 1 0 0 1 0 1 0 0 0 1 1 1 1 0 1 0 1 1 0 0 1 1\n",
      " 0 0 1 0 1 1 1 0 1 1 1 0 0]\n"
     ]
    }
   ],
   "source": [
    "# размер выборки\n",
    "n = 50\n",
    "\n",
    "# генерация задачи классификации:\n",
    "# n_samples - количество объектов задачи классификаци\n",
    "# n_features - общее количество признаков у объектов\n",
    "# n_redundant - количество неинформативных (избыточных) признаков\n",
    "# n_informative - количество информативных признаков)\n",
    "# flip_y - количество объектов в долях (от 0 до 1), которым класс присвоен случайно\n",
    "# X - сгенерированная выборка в виде массива признаков объектов\n",
    "# Y - массив целых чисел - соответствие объекта к классу \n",
    "X, Y = make_classification(n_samples = n, n_features=2,\n",
    "                           n_redundant=0, n_informative=2, flip_y=0)\n",
    "print(f'Признаки объектов:\\n {X}')\n",
    "print(f'Классы объектов:\\n {Y}')"
   ]
  },
  {
   "cell_type": "code",
   "execution_count": 8,
   "metadata": {},
   "outputs": [
    {
     "name": "stdout",
     "output_type": "stream",
     "text": [
      "Ответы задачи бинарной классификации:\n",
      " [ 1 -1  1  1 -1 -1  1 -1 -1  1 -1 -1  1 -1 -1  1 -1 -1  1 -1  1 -1 -1 -1\n",
      "  1  1  1  1 -1  1 -1  1  1 -1 -1  1  1 -1 -1  1 -1  1  1  1 -1  1  1  1\n",
      " -1 -1]\n"
     ]
    }
   ],
   "source": [
    "# бинаризация ответов задачи классификации\n",
    "Y = Y*2-1\n",
    "print(f'Ответы задачи бинарной классификации:\\n {Y}')"
   ]
  },
  {
   "cell_type": "code",
   "execution_count": 10,
   "metadata": {},
   "outputs": [
    {
     "name": "stdout",
     "output_type": "stream",
     "text": [
      "Признаки объектов:\n",
      " [[ 1.4073035   0.9607637 ]\n",
      " [-1.5900428  -1.4035089 ]\n",
      " [ 0.93604654 -1.2102373 ]\n",
      " [ 1.1424146   0.54125196]\n",
      " [-1.7511905   1.1553763 ]\n",
      " [ 0.26569116 -0.22919697]\n",
      " [ 1.0535834   0.34946185]\n",
      " [ 0.6645639   0.13812476]\n",
      " [-1.9354873  -1.3445048 ]\n",
      " [ 1.6947472   1.1168084 ]\n",
      " [ 0.30602264  0.8000522 ]\n",
      " [-0.9957266   1.0217206 ]\n",
      " [ 0.9996902   0.68630975]\n",
      " [-0.7908847  -0.99048734]\n",
      " [-0.6337448   1.0424908 ]\n",
      " [ 0.88149494 -2.755838  ]\n",
      " [-2.3385847   1.172653  ]\n",
      " [-1.8353099   1.0266217 ]\n",
      " [ 1.9586346   0.85551184]\n",
      " [-2.1516123  -1.5850959 ]\n",
      " [ 1.2248266   0.52690834]\n",
      " [ 0.27290222  0.9136088 ]\n",
      " [-1.8692884  -1.5799222 ]\n",
      " [-0.02416015 -0.33862698]\n",
      " [ 0.9444769  -2.11718   ]\n",
      " [ 1.0255607  -0.07476384]\n",
      " [ 1.1785326  -0.35217866]\n",
      " [ 1.0958732   1.350727  ]\n",
      " [-0.3154808   0.8700179 ]\n",
      " [ 2.271844    0.79321   ]\n",
      " [-1.6380007   1.1585847 ]\n",
      " [ 1.0451772   0.583039  ]\n",
      " [ 1.0185643  -1.0118982 ]\n",
      " [-0.7468871   0.9663805 ]\n",
      " [-0.5734298  -0.6916509 ]\n",
      " [-0.3838521   1.0460674 ]\n",
      " [ 1.1646228   0.5624025 ]\n",
      " [-1.4754946  -1.336149  ]\n",
      " [-0.43315604 -0.6238146 ]\n",
      " [ 0.19352615  1.319713  ]\n",
      " [ 0.09483696  0.77959   ]\n",
      " [ 1.1130469   0.5820056 ]\n",
      " [ 0.36018205  0.8986037 ]\n",
      " [ 0.88998896 -1.7235934 ]\n",
      " [-0.3620067  -0.6111626 ]\n",
      " [ 0.9237931  -1.4927204 ]\n",
      " [ 0.7112279   0.7088778 ]\n",
      " [ 0.9607161  -1.6404804 ]\n",
      " [-2.5365796   1.2220994 ]\n",
      " [-1.8809937  -1.592615  ]]\n",
      "Ответы бинарной классификации:\n",
      " [ 1 -1  1  1 -1 -1  1 -1 -1  1 -1 -1  1 -1 -1  1 -1 -1  1 -1  1 -1 -1 -1\n",
      "  1  1  1  1 -1  1 -1  1  1 -1 -1  1  1 -1 -1  1 -1  1  1  1 -1  1  1  1\n",
      " -1 -1]\n"
     ]
    }
   ],
   "source": [
    "# типизация массивов данных\n",
    "X = X.astype(np.float32); \n",
    "Y = Y.astype(np.int32)\n",
    "\n",
    "print(f'Признаки объектов:\\n {X}')\n",
    "print(f'Ответы бинарной классификации:\\n {Y}')"
   ]
  },
  {
   "cell_type": "code",
   "execution_count": 12,
   "metadata": {
    "slideshow": {
     "slide_type": "slide"
    }
   },
   "outputs": [
    {
     "name": "stdout",
     "output_type": "stream",
     "text": [
      "Обучающая выборка объектов:\n",
      " [[ 1.4073035   0.9607637 ]\n",
      " [-1.5900428  -1.4035089 ]\n",
      " [ 0.93604654 -1.2102373 ]\n",
      " [ 1.1424146   0.54125196]\n",
      " [-1.7511905   1.1553763 ]\n",
      " [ 0.26569116 -0.22919697]\n",
      " [ 1.0535834   0.34946185]\n",
      " [ 0.6645639   0.13812476]\n",
      " [-1.9354873  -1.3445048 ]\n",
      " [ 1.6947472   1.1168084 ]\n",
      " [ 0.30602264  0.8000522 ]\n",
      " [-0.9957266   1.0217206 ]\n",
      " [ 0.9996902   0.68630975]\n",
      " [-0.7908847  -0.99048734]\n",
      " [-0.6337448   1.0424908 ]\n",
      " [ 0.88149494 -2.755838  ]\n",
      " [-2.3385847   1.172653  ]\n",
      " [-1.8353099   1.0266217 ]\n",
      " [ 1.9586346   0.85551184]\n",
      " [-2.1516123  -1.5850959 ]\n",
      " [ 1.2248266   0.52690834]\n",
      " [ 0.27290222  0.9136088 ]\n",
      " [-1.8692884  -1.5799222 ]\n",
      " [-0.02416015 -0.33862698]\n",
      " [ 0.9444769  -2.11718   ]\n",
      " [ 1.0255607  -0.07476384]\n",
      " [ 1.1785326  -0.35217866]\n",
      " [ 1.0958732   1.350727  ]\n",
      " [-0.3154808   0.8700179 ]\n",
      " [ 2.271844    0.79321   ]\n",
      " [-1.6380007   1.1585847 ]\n",
      " [ 1.0451772   0.583039  ]\n",
      " [ 1.0185643  -1.0118982 ]\n",
      " [-0.7468871   0.9663805 ]\n",
      " [-0.5734298  -0.6916509 ]\n",
      " [-0.3838521   1.0460674 ]\n",
      " [ 1.1646228   0.5624025 ]\n",
      " [-1.4754946  -1.336149  ]\n",
      " [-0.43315604 -0.6238146 ]\n",
      " [ 0.19352615  1.319713  ]]\n",
      "Обучающая выборка ответов:\n",
      " [ 1 -1  1  1 -1 -1  1 -1 -1  1 -1 -1  1 -1 -1  1 -1 -1  1 -1  1 -1 -1 -1\n",
      "  1  1  1  1 -1  1 -1  1  1 -1 -1  1  1 -1 -1  1]\n",
      "Тестовая выборка объектов:\n",
      " [[ 0.09483696  0.77959   ]\n",
      " [ 1.1130469   0.5820056 ]\n",
      " [ 0.36018205  0.8986037 ]\n",
      " [ 0.88998896 -1.7235934 ]\n",
      " [-0.3620067  -0.6111626 ]\n",
      " [ 0.9237931  -1.4927204 ]\n",
      " [ 0.7112279   0.7088778 ]\n",
      " [ 0.9607161  -1.6404804 ]\n",
      " [-2.5365796   1.2220994 ]\n",
      " [-1.8809937  -1.592615  ]]\n",
      "Тестовая выборка ответов:\n",
      " [-1  1  1  1 -1  1  1  1 -1 -1]\n"
     ]
    }
   ],
   "source": [
    "# Разбиваем на обучающую и тестовые выборки. В реальной жизни обучающая - 80% данных\n",
    "train_x, test_x = np.split(X, [ n*8//10])\n",
    "train_labels, test_labels = np.split(Y, [n*8//10])\n",
    "print(f'Обучающая выборка объектов:\\n {train_x}')\n",
    "print(f'Обучающая выборка ответов:\\n {train_labels}')\n",
    "print(f'Тестовая выборка объектов:\\n {test_x}')\n",
    "print(f'Тестовая выборка ответов:\\n {test_labels}')"
   ]
  },
  {
   "cell_type": "markdown",
   "metadata": {},
   "source": [
    "**[matplotlib.pyplot.subplots](https://matplotlib.org/stable/api/_as_gen/matplotlib.pyplot.subplots.html?highlight=subplots#matplotlib.pyplot.subplots)** - создание фигуры и набора осей для графиков \n",
    "\n",
    "**[matplotlib.pyplot.suptitle](https://matplotlib.org/stable/api/_as_gen/matplotlib.pyplot.suptitle.html?highlight=suptitle#matplotlib.pyplot.suptitle)** - добавление заголовка к фигуре по центру\n",
    "\n",
    "**[matplotlib.axes.Axes.set_xlabel](https://matplotlib.org/stable/api/_as_gen/matplotlib.axes.Axes.set_xlabel.html?highlight=set_xlabel#matplotlib.axes.Axes.set_xlabel)** - установление метки (название) для оси X\n",
    "\n",
    "**[matplotlib.axes.Axes.set_ylabel](https://matplotlib.org/stable/api/_as_gen/matplotlib.axes.Axes.set_ylabel.html?highlight=set_ylabel#matplotlib.axes.Axes.set_ylabel)** - установление метки (названия) для оси Y\n",
    "\n",
    "**[matplotlib.axes.Axes.scatter](https://matplotlib.org/stable/api/_as_gen/matplotlib.axes.Axes.scatter.html?highlight=scatter#matplotlib.axes.Axes.scatter)** - диаграмма разброса **y** по **x** с разным размером и/или цветом маркера\n",
    "\n",
    "**[matplotlib.pyplot.subplots_adjust](https://matplotlib.org/stable/api/_as_gen/matplotlib.pyplot.subplots_adjust.html?highlight=subplots_adjust#matplotlib.pyplot.subplots_adjust)** - настройте параметры компоновки подзаголовка"
   ]
  },
  {
   "cell_type": "code",
   "execution_count": 13,
   "metadata": {
    "slideshow": {
     "slide_type": "skip"
    }
   },
   "outputs": [],
   "source": [
    "# функция вывода графика разброса объектов по классам\n",
    "# suptitle - название фигуры\n",
    "# features - признаки объектов\n",
    "# labels - метки (названия) осей\n",
    "def plot_dataset(suptitle, features, labels):\n",
    "    # подготовка графиков\n",
    "    fig, ax = plt.subplots(1, 1)\n",
    "    #plt.subplots_adjust(bottom=0.2, wspace=0.4)\n",
    "    fig.suptitle(suptitle, fontsize = 16)\n",
    "    \n",
    "    # установление меток по осям осям\n",
    "    ax.set_xlabel('$x_i[0]$ -- (feature 1)')\n",
    "    ax.set_ylabel('$x_i[1]$ -- (feature 2)')\n",
    "\n",
    "    # установление цвета для различных классов \n",
    "    colors = ['r' if l>0 else 'b' for l in labels]\n",
    "    \n",
    "    # построение графика\n",
    "    ax.scatter(features[:, 0], features[:, 1], marker='o', c=colors, s=100, alpha = 0.5)\n",
    "    \n",
    "    # вывод фигуры\n",
    "    fig.show()"
   ]
  },
  {
   "cell_type": "code",
   "execution_count": 14,
   "metadata": {
    "slideshow": {
     "slide_type": "slide"
    }
   },
   "outputs": [
    {
     "name": "stderr",
     "output_type": "stream",
     "text": [
      "<ipython-input-13-35f5edcc7d6e>:22: UserWarning: Matplotlib is currently using module://ipykernel.pylab.backend_inline, which is a non-GUI backend, so cannot show the figure.\n",
      "  fig.show()\n"
     ]
    },
    {
     "data": {
      "image/png": "[encoded data removed]",
      "text/plain": [
       "<Figure size 432x288 with 1 Axes>"
      ]
     },
     "metadata": {
      "needs_background": "light"
     },
     "output_type": "display_data"
    }
   ],
   "source": [
    "# вывод графика функции разброса объектов по классам\n",
    "plot_dataset('Scatterplot of the training data', train_x, train_labels)"
   ]
  },
  {
   "cell_type": "markdown",
   "metadata": {
    "slideshow": {
     "slide_type": "slide"
    }
   },
   "source": [
    "## Нейросети\n",
    "<img src=\"https://raw.githubusercontent.com/shwars/NeuroWorkshop/master/images/synapse-wikipedia.JPG\" width=\"30%\"/>\n",
    "Искусственная нейросеть - это моделирование с той или иной точностью процессов, происходящих в мозге человека.\n",
    "  * Моделируется в основном электрическая активность\n",
    "  * Сильное упрощение модели, которое позволяет эффективно её вычислять\n",
    "\n"
   ]
  },
  {
   "cell_type": "markdown",
   "metadata": {
    "slideshow": {
     "slide_type": "slide"
    }
   },
   "source": [
    "## Персептрон\n",
    "<img style='margin: 10px;width: 30%;' src='https://raw.githubusercontent.com/shwars/NeuroWorkshop/master/images/Rosenblatt-wikipedia.jpg' alt='Frank Rosenblatt' align='right'/>\n",
    "Первая попытка реализовать нейронную сеть - 1957 г., Cornell Aeronautical Laboratory, Frank Rosenblatt. \n",
    "\n",
    "Реализация \"в железе\"\n",
    "\n",
    "Цель - распознавание образов\n",
    "\n",
    "Один нейрон, 400 входов от изображения 20x20, двоичный выход"
   ]
  },
  {
   "cell_type": "markdown",
   "metadata": {
    "slideshow": {
     "slide_type": "slide"
    }
   },
   "source": [
    "## Персептрон\n",
    "\n",
    "<img style='margin: 10px;width:30%' src='https://raw.githubusercontent.com/shwars/NeuroWorkshop/master/images/Mark_I_perceptron_wikipedia.jpg' align='right' alt='The Mark 1 Perceptron' />\n",
    "\n",
    "New York Times так об этом писала:\n",
    "\n",
    "> the embryo of an electronic computer that [the Navy] expects will be able to walk, talk,\n",
    "> see, write, reproduce itself and be conscious of its existence.\n",
    "\n",
    "В основе - работы Warren McCullock и Walter Pitts 1943 года\n",
    "\n",
    "Threshold Logic Unit - первая модель искусственного нейрона"
   ]
  },
  {
   "cell_type": "markdown",
   "metadata": {
    "slideshow": {
     "slide_type": "slide"
    }
   },
   "source": [
    "## Мат.модель персептрона\n",
    "\n",
    "На вход подаётся вектор $\\mathbf{x}$, в этом случае выходное значение вычисляется как:\n",
    "\n",
    "$$y(\\mathbf{x}) = f(\\mathbf{w}^{\\mathrm{T}}\\mathbf{x})$$\n",
    "\n",
    "где $\\mathbf{w}$ - вектор весов, $f$ - пороговая функция вида\n",
    "$$\n",
    "f(x) = \\begin{cases}\n",
    "         +1 & x \\geq 0 \\\\\n",
    "         -1 & x < 0\n",
    "       \\end{cases} \\\\\n",
    "$$"
   ]
  },
  {
   "cell_type": "markdown",
   "metadata": {
    "slideshow": {
     "slide_type": "slide"
    }
   },
   "source": [
    "## Алгоритм обучения\n",
    "\n",
    "Для работы персептрона необходимо найти веса $\\mathbf{w}$. Для этого мы используем и минимизируем **критерий персептрона**:\n",
    "\n",
    "$$E(\\mathbf{w}) = -\\sum_{n \\in \\mathcal{M}}\\mathbf{w}^{\\mathrm{T}}\\mathbf{x}_{n}t_{n}$$\n",
    " \n",
    "  * $t_{n} \\in \\{-1, +1\\}$ для отрицательных и положительных примеров соответственно\n",
    "  * $\\mathcal{M}$ - множество неправильно классифицированных примеров\n",
    "  \n",
    "Для обновления весов на каждом примере мы можем использовать градиент этой функции:\n",
    "\n",
    "$$\\mathbf{w}^{\\tau + 1}=\\mathbf{w}^{\\tau} - \\eta \\nabla E(\\mathbf{w}) = \\mathbf{w}^{\\tau} + \\eta \\mathbf{x}_{n} t_{n}$$\n",
    "\n",
    "где $\\eta$ - коэффициент, показывающий скорость обучения, $\\tau\\in\\mathbb{N}$ - номер шага алгоритма"
   ]
  },
  {
   "cell_type": "code",
   "execution_count": 25,
   "metadata": {},
   "outputs": [
    {
     "name": "stdout",
     "output_type": "stream",
     "text": [
      "Объекты обучающей выборки с положительными ответами:\n",
      " [[ 1.40730345  0.96076369  1.        ]\n",
      " [ 0.93604654 -1.21023726  1.        ]\n",
      " [ 1.14241457  0.54125196  1.        ]\n",
      " [ 1.05358338  0.34946185  1.        ]\n",
      " [ 1.69474721  1.11680841  1.        ]\n",
      " [ 0.99969018  0.68630975  1.        ]\n",
      " [ 0.88149494 -2.75583792  1.        ]\n",
      " [ 1.95863461  0.85551184  1.        ]\n",
      " [ 1.22482657  0.52690834  1.        ]\n",
      " [ 0.9444769  -2.11718011  1.        ]\n",
      " [ 1.02556074 -0.07476384  1.        ]\n",
      " [ 1.1785326  -0.35217866  1.        ]\n",
      " [ 1.09587324  1.35072696  1.        ]\n",
      " [ 2.27184391  0.79321003  1.        ]\n",
      " [ 1.04517722  0.58303899  1.        ]\n",
      " [ 1.01856434 -1.01189816  1.        ]\n",
      " [-0.38385209  1.04606736  1.        ]\n",
      " [ 1.16462278  0.56240249  1.        ]\n",
      " [ 0.19352615  1.319713    1.        ]]\n",
      "Количество объектов с позитивными выходами: 19\n"
     ]
    }
   ],
   "source": [
    "# получение массива объектов с позитивными выходами:\n",
    "# [признаки объекта, 1 в качестве ответа]\n",
    "pos_examples = np.array([ [t[0],t[1],1] for i,t in enumerate(train_x) \n",
    "                          if train_labels[i]>0])\n",
    "print(f'Объекты обучающей выборки с положительными ответами:\\n {pos_examples}')\n",
    "print(f'Количество объектов с позитивными выходами: {len(pos_examples)}')"
   ]
  },
  {
   "cell_type": "code",
   "execution_count": 26,
   "metadata": {
    "slideshow": {
     "slide_type": "slide"
    }
   },
   "outputs": [
    {
     "name": "stdout",
     "output_type": "stream",
     "text": [
      "Объекты обучающей выборки с положительными ответами:\n",
      " [[-1.59004283 -1.4035089   1.        ]\n",
      " [-1.75119054  1.15537632  1.        ]\n",
      " [ 0.26569116 -0.22919697  1.        ]\n",
      " [ 0.66456389  0.13812476  1.        ]\n",
      " [-1.93548727 -1.34450483  1.        ]\n",
      " [ 0.30602264  0.80005223  1.        ]\n",
      " [-0.99572659  1.02172065  1.        ]\n",
      " [-0.79088467 -0.99048734  1.        ]\n",
      " [-0.63374478  1.04249084  1.        ]\n",
      " [-2.33858466  1.17265296  1.        ]\n",
      " [-1.83530986  1.0266217   1.        ]\n",
      " [-2.15161228 -1.58509588  1.        ]\n",
      " [ 0.27290222  0.91360879  1.        ]\n",
      " [-1.86928844 -1.5799222   1.        ]\n",
      " [-0.02416015 -0.33862698  1.        ]\n",
      " [-0.3154808   0.87001789  1.        ]\n",
      " [-1.63800073  1.15858471  1.        ]\n",
      " [-0.74688709  0.96638048  1.        ]\n",
      " [-0.57342982 -0.69165093  1.        ]\n",
      " [-1.47549462 -1.33614898  1.        ]\n",
      " [-0.43315604 -0.62381458  1.        ]]\n",
      "Количество объектов с негативными выходами: 21\n"
     ]
    }
   ],
   "source": [
    "# получение массива объектов с негативными выходами:\n",
    "# [признаки объекта, -1 в качестве ответа]\n",
    "neg_examples = np.array([ [t[0],t[1],1] for i,t in enumerate(train_x) \n",
    "                          if train_labels[i]<0])\n",
    "print(f'Объекты обучающей выборки с положительными ответами:\\n {neg_examples}')\n",
    "print(f'Количество объектов с негативными выходами: {len(neg_examples)}')"
   ]
  },
  {
   "cell_type": "markdown",
   "metadata": {},
   "source": [
    "**[numpy.dot()](https://numpy.org/doc/stable/reference/generated/numpy.dot.html)** - скалярное произведение векторов"
   ]
  },
  {
   "cell_type": "markdown",
   "metadata": {
    "slideshow": {
     "slide_type": "slide"
    }
   },
   "source": [
    "```python\n",
    "# код не совсем правильный\n",
    "# обучение модели\n",
    "# positive_examples - обучающая выборка с положительными выходами\n",
    "# negative_examples - обучающая выборка с отрицательными выходами\n",
    "# num_iterations - количество итераций обучения\n",
    "def train(positive_examples, negative_examples, num_iterations = 100):\n",
    "    # начальная инициализация весов\n",
    "    weights = [0,0,0]\n",
    "    \n",
    "    # цикл обечения по количеству итераций\n",
    "    for i in range(num_iterations):\n",
    "        # выбор случайного объекта из каждой выборки\n",
    "        pos = random.choice(positive_examples)\n",
    "        neg = random.choice(negative_examples)\n",
    "\n",
    "        # скалярное произведение векторов (вектор признаков объектов с положительными выходами на вектор весов)\n",
    "        z = np.dot(pos, weights)   \n",
    "        \n",
    "        # увеличение весов на 1\n",
    "        if z < 0:\n",
    "            weights = weights + weights.shape\n",
    "        \n",
    "        # скалярное произведение векторов (вектор признаков объектов с отрицательными выходами на вектор весов)\n",
    "        z  = np.dot(neg, weights)\n",
    "        \n",
    "        # уменьшение весов на 1\n",
    "        if z >= 0:\n",
    "            weights = weights - weights.shape\n",
    "\n",
    "    # возвращаем веса\n",
    "    return weights\n",
    "```"
   ]
  },
  {
   "cell_type": "markdown",
   "metadata": {},
   "source": [
    "**[numpy.zeros()](https://numpy.org/doc/stable/search.html?q=zeros)** - возвращает новый массив заданной формы и типа, заполненный нулями\n",
    "\n",
    "**[numpy.zeros()](https://numpy.org/doc/stable/reference/generated/numpy.sum.html?)** - возвращает cуммe элементов массива по заданной оси"
   ]
  },
  {
   "cell_type": "code",
   "execution_count": 43,
   "metadata": {
    "slideshow": {
     "slide_type": "skip"
    }
   },
   "outputs": [],
   "source": [
    "# функция обучения модели\n",
    "# positive_examples - обучающая выборка с положительными выходами\n",
    "# negative_examples - обучающая выборка с отрицательными выходами\n",
    "# num_iterations - количество итераций обучения модели\n",
    "def train(positive_examples, negative_examples, num_iterations = 100):\n",
    "    # определяем размерность матрицы [признаки объектов, ответы]\n",
    "    num_dims = positive_examples.shape[1]\n",
    "    \n",
    "    # инициализируем вектор весов\n",
    "    weights = np.zeros((num_dims, 1))\n",
    "    \n",
    "    # получаем количество объектов из каждой выборки\n",
    "    pos_count = positive_examples.shape[0]\n",
    "    neg_count = negative_examples.shape[0]\n",
    "    \n",
    "    # частота вывода результатов (через сколько итераций выводить результат обучения модели)\n",
    "    report_frequency = 10\n",
    "    \n",
    "    # цикл по количеству итераций\n",
    "    for i in range(num_iterations):\n",
    "        # случайным образом выбирается объект из каждой выборки\n",
    "        pos = random.choice(positive_examples)\n",
    "        neg = random.choice(negative_examples)\n",
    "\n",
    "        # скалярное произведение вектора \"позитивного\" объекта на вектор весов\n",
    "        z = np.dot(pos, weights)\n",
    "        \n",
    "        if z < 0:\n",
    "            # Добавляем к весам значения принаков текущего \"позитивного\" объекта:\n",
    "            # i-тый вес увеличивается на i-тый признак\n",
    "            # последний вес увеличивается на ответ (т.е. +1)\n",
    "            weights = weights + pos.reshape(weights.shape)\n",
    "\n",
    "        # скалярное произведение вектора \"негативного\" объекта на вектор весов\n",
    "        z  = np.dot(neg, weights)\n",
    "        if z >= 0:\n",
    "            # Вычитаем из весов значения принаков текущего \"негативного\" объекта:\n",
    "            # i-тый вес уменьшается на i-тый признак\n",
    "            # последний вес уменьшается на ответ (т.е. -1)\n",
    "            weights = weights - neg.reshape(weights.shape)\n",
    "            \n",
    "        # если это итерация, при котором выводится результат\n",
    "        if i % report_frequency == 0:             \n",
    "            # результаты выходов: скалярное умножение матрицы обучающей выборки на вектор весов\n",
    "            pos_out = np.dot(positive_examples, weights)\n",
    "            neg_out = np.dot(negative_examples, weights)        \n",
    "            \n",
    "            # получение доли соответствия знака объектов в соответствующих выборках\n",
    "            pos_correct = (pos_out >= 0).sum() / float(pos_count)\n",
    "            neg_correct = (neg_out < 0).sum() / float(neg_count)\n",
    "            \n",
    "            # вывод:\n",
    "            # Iteration - номер итерации\n",
    "            # pos correct - точность определения позитивных объектов\n",
    "            # neg correct - точность определения негативных объектов\n",
    "            print(\"Iteration={}, pos correct={}, neg correct={}\".format(i,pos_correct,neg_correct))\n",
    "\n",
    "    # возращаем веса\n",
    "    return weights"
   ]
  },
  {
   "cell_type": "markdown",
   "metadata": {},
   "source": [
    "**[numpy.transpose()](https://numpy.org/doc/stable/reference/generated/numpy.transpose.html)** - транспонирует (меняет оси в обратном порядке) или перемещает оси массива в указанные положения"
   ]
  },
  {
   "cell_type": "code",
   "execution_count": 44,
   "metadata": {
    "slideshow": {
     "slide_type": "slide"
    }
   },
   "outputs": [
    {
     "name": "stdout",
     "output_type": "stream",
     "text": [
      "Iteration=0, pos correct=0.7368421052631579, neg correct=0.8571428571428571\n",
      "Iteration=10, pos correct=0.8947368421052632, neg correct=0.8571428571428571\n",
      "Iteration=20, pos correct=0.8947368421052632, neg correct=0.9523809523809523\n",
      "Iteration=30, pos correct=0.8947368421052632, neg correct=0.9523809523809523\n",
      "Iteration=40, pos correct=0.8947368421052632, neg correct=0.8095238095238095\n",
      "Iteration=50, pos correct=0.8947368421052632, neg correct=0.9047619047619048\n",
      "Iteration=60, pos correct=0.9473684210526315, neg correct=0.8095238095238095\n",
      "Iteration=70, pos correct=0.8947368421052632, neg correct=0.7142857142857143\n",
      "Iteration=80, pos correct=0.9473684210526315, neg correct=0.7619047619047619\n",
      "Iteration=90, pos correct=0.9473684210526315, neg correct=0.8571428571428571\n",
      "Вывод весов:\n",
      " [[ 3.75364181]\n",
      " [ 0.021524  ]\n",
      " [-2.        ]]\n",
      "Вывод весов, после транспонирования матрицы:\n",
      " [[ 3.75364181  0.021524   -2.        ]]\n"
     ]
    }
   ],
   "source": [
    "# обучение модели и получение весов\n",
    "wts = train(pos_examples,neg_examples)\n",
    "\n",
    "print(f'Вывод весов:\\n {wts}')\n",
    "print(f'Вывод весов, после транспонирования матрицы:\\n {wts.transpose()}')"
   ]
  },
  {
   "cell_type": "markdown",
   "metadata": {},
   "source": [
    "**[numpy.isclose()](https://numpy.org/doc/stable/reference/generated/numpy.isclose.html)** - возвращает логический массив, в котором два массива поэлементно равны в пределах допуска\n",
    "\n",
    "**[matplotlib.pyplot.xlim()](https://matplotlib.org/stable/api/_as_gen/matplotlib.pyplot.xlim.html)** - получение или установка пределов **x** текущих осей\n",
    "\n",
    "**[matplotlib.pyplot.ylim()](https://matplotlib.org/stable/api/_as_gen/matplotlib.pyplot.ylim.html)** - получение или установка пределов **y** текущих осей\n",
    "\n",
    "**[numpy.array()](https://numpy.org/doc/stable/reference/generated/numpy.array.html)** - создание массива"
   ]
  },
  {
   "cell_type": "code",
   "execution_count": 62,
   "metadata": {},
   "outputs": [
    {
     "data": {
      "text/plain": [
       "[<matplotlib.lines.Line2D at 0x2239c8338e0>]"
      ]
     },
     "execution_count": 62,
     "metadata": {},
     "output_type": "execute_result"
    },
    {
     "data": {
      "image/png": "[encoded data removed]",
      "text/plain": [
       "<Figure size 432x288 with 1 Axes>"
      ]
     },
     "metadata": {
      "needs_background": "light"
     },
     "output_type": "display_data"
    }
   ],
   "source": [
    "plt.xlim(-6, 6)\n",
    "plt.ylim(-6, 6)\n",
    "plt.plot([-2, 3], [-6, 6], 'g', linewidth=2.0)"
   ]
  },
  {
   "cell_type": "code",
   "execution_count": 63,
   "metadata": {
    "slideshow": {
     "slide_type": "skip"
    }
   },
   "outputs": [],
   "source": [
    "# функция вывода графика линейного классификатора\n",
    "# positive_examples - выборка позитивных объектов\n",
    "# negative_examples - выборка негативных объектов\n",
    "# weights - веса\n",
    "def plot_boundary(positive_examples, negative_examples, weights):\n",
    "    # если второй вес близок нулю\n",
    "    if np.isclose(weights[1], 0):\n",
    "        # если первый вес близок нулю\n",
    "        if np.isclose(weights[0], 0):\n",
    "            # задаем границы прямой по x и y. В данном случае это диагональ квадрата\n",
    "            x = y = np.array([-6, 6], dtype = 'float32')\n",
    "        else:\n",
    "            # задаем границы прямой по y\n",
    "            y = np.array([-6, 6], dtype='float32')\n",
    "            \n",
    "            # масштабируем границы прямой по x по первому весу\n",
    "            x = -(weights[1] * y + weights[2])/weights[0]\n",
    "    else:\n",
    "        # задаем границы прямой по y\n",
    "        x = np.array([-6, 6], dtype='float32')\n",
    "        \n",
    "        # масштабируем границы прямой по y по второму весу\n",
    "        y = -(weights[0] * x + weights[2])/weights[1]\n",
    "    \n",
    "    # задаем границы вывода графика\n",
    "    plt.xlim(-6, 6)\n",
    "    plt.ylim(-6, 6)                \n",
    "    \n",
    "    # добавляем в виде точек разных цветов объекты разных классов\n",
    "    plt.plot(positive_examples[:,0], positive_examples[:,1], 'bo')\n",
    "    plt.plot(negative_examples[:,0], negative_examples[:,1], 'ro')\n",
    "    \n",
    "    # строим линию перехода между классами\n",
    "    plt.plot(x, y, 'g', linewidth=2.0)\n",
    "    \n",
    "    # выводим график\n",
    "    plt.show()"
   ]
  },
  {
   "cell_type": "code",
   "execution_count": 64,
   "metadata": {
    "slideshow": {
     "slide_type": "slide"
    }
   },
   "outputs": [
    {
     "data": {
      "image/png": "[encoded data removed]",
      "text/plain": [
       "<Figure size 432x288 with 1 Axes>"
      ]
     },
     "metadata": {
      "needs_background": "light"
     },
     "output_type": "display_data"
    }
   ],
   "source": [
    "# вывод графика линейного классификатора\n",
    "plot_boundary(pos_examples,neg_examples,wts)"
   ]
  },
  {
   "cell_type": "markdown",
   "metadata": {
    "slideshow": {
     "slide_type": "slide"
    }
   },
   "source": [
    "## Проверяем на тестовой выборке"
   ]
  },
  {
   "cell_type": "code",
   "execution_count": 10,
   "metadata": {
    "slideshow": {
     "slide_type": "fragment"
    }
   },
   "outputs": [
    {
     "data": {
      "text/plain": [
       "1.0"
      ]
     },
     "execution_count": 10,
     "metadata": {},
     "output_type": "execute_result"
    }
   ],
   "source": [
    "def accuracy(weights, test_x, test_labels):\n",
    "    res = np.dot(np.c_[test_x,np.ones(len(test_x))],weights)\n",
    "    return (res.reshape(test_labels.shape)*test_labels>=0).sum()/float(len(test_labels))\n",
    "\n",
    "accuracy(wts, test_x, test_labels)"
   ]
  },
  {
   "cell_type": "markdown",
   "metadata": {
    "slideshow": {
     "slide_type": "slide"
    }
   },
   "source": [
    "## Посмотрим, как меняется точность обучения"
   ]
  },
  {
   "cell_type": "code",
   "execution_count": 11,
   "metadata": {
    "slideshow": {
     "slide_type": "skip"
    }
   },
   "outputs": [],
   "source": [
    "def train_graph(positive_examples, negative_examples, num_iterations = 100):\n",
    "    num_dims = positive_examples.shape[1]\n",
    "    weights = np.zeros((num_dims,1)) # инициализируем веса\n",
    "    \n",
    "    pos_count = positive_examples.shape[0]\n",
    "    neg_count = negative_examples.shape[0]\n",
    "    \n",
    "    report_frequency = 15;\n",
    "    snapshots = []\n",
    "    \n",
    "    for i in range(num_iterations):\n",
    "        pos = random.choice(positive_examples)\n",
    "        neg = random.choice(negative_examples)\n",
    "\n",
    "        z = np.dot(pos, weights)   \n",
    "        if z < 0:\n",
    "            weights = weights + pos.reshape(weights.shape)\n",
    "\n",
    "        z  = np.dot(neg, weights)\n",
    "        if z >= 0:\n",
    "            weights = weights - neg.reshape(weights.shape)\n",
    "            \n",
    "        if i % report_frequency == 0:             \n",
    "            pos_out = np.dot(positive_examples, weights)\n",
    "            neg_out = np.dot(negative_examples, weights)        \n",
    "            pos_correct = (pos_out >= 0).sum() / float(pos_count)\n",
    "            neg_correct = (neg_out < 0).sum() / float(neg_count)\n",
    "            snapshots.append((np.copy(weights),(pos_correct+neg_correct)/2.0))\n",
    "\n",
    "    return np.array(snapshots)\n",
    "\n",
    "snapshots = train_graph(pos_examples,neg_examples)\n",
    "\n",
    "def plotit(pos_examples,neg_examples,snapshots,step):\n",
    "    fig = pylab.figure(figsize=(10,4))\n",
    "    fig.add_subplot(1, 2, 1)\n",
    "    plot_boundary(pos_examples, neg_examples, snapshots[step][0])\n",
    "    fig.add_subplot(1, 2, 2)\n",
    "    pylab.plot(np.arange(len(snapshots[:,1])), snapshots[:,1])\n",
    "    pylab.ylabel('Accuracy')\n",
    "    pylab.xlabel('Iteration')\n",
    "    pylab.plot(step, snapshots[step,1], \"bo\")\n",
    "    pylab.show()\n",
    "def pl1(step): plotit(pos_examples,neg_examples,snapshots,step)"
   ]
  },
  {
   "cell_type": "code",
   "execution_count": 12,
   "metadata": {
    "slideshow": {
     "slide_type": "slide"
    }
   },
   "outputs": [
    {
     "data": {
      "application/vnd.jupyter.widget-view+json": {
       "model_id": "fce71c9c2ff14cd08290de7d11d71717",
       "version_major": 2,
       "version_minor": 0
      },
      "text/plain": [
       "interactive(children=(IntSlider(value=0, description='step', max=6), Output()), _dom_classes=('widget-interact…"
      ]
     },
     "metadata": {},
     "output_type": "display_data"
    },
    {
     "data": {
      "text/plain": [
       "<function __main__.pl1(step)>"
      ]
     },
     "execution_count": 12,
     "metadata": {},
     "output_type": "execute_result"
    }
   ],
   "source": [
    "interact(pl1, step=widgets.IntSlider(value=0, min=0, max=len(snapshots)-1))"
   ]
  },
  {
   "cell_type": "markdown",
   "metadata": {
    "slideshow": {
     "slide_type": "slide"
    }
   },
   "source": [
    "## Ограниченность персептрона\n",
    "\n",
    "Типичный пример нерешаемой задачи - **исключающее или** (XOR problem)\n",
    "\n",
    "|   | 0 | 1 |\n",
    "|---|---|---|\n",
    "| 0 | 0 | 1 | \n",
    "| 1 | 1 | 0 |"
   ]
  },
  {
   "cell_type": "code",
   "execution_count": 13,
   "metadata": {
    "slideshow": {
     "slide_type": "slide"
    }
   },
   "outputs": [],
   "source": [
    "pos_examples_xor = np.array([[1,0,1],[0,1,1]])\n",
    "neg_examples_xor = np.array([[1,1,1],[0,0,1]])\n",
    "\n",
    "snapshots_xor = train_graph(pos_examples_xor,neg_examples_xor,1000)\n",
    "def pl2(step): plotit(pos_examples_xor,neg_examples_xor,snapshots_xor,step)"
   ]
  },
  {
   "cell_type": "code",
   "execution_count": 14,
   "metadata": {
    "slideshow": {
     "slide_type": "slide"
    }
   },
   "outputs": [
    {
     "data": {
      "application/vnd.jupyter.widget-view+json": {
       "model_id": "849a6d62824e4aec879479b4aa9c79d3",
       "version_major": 2,
       "version_minor": 0
      },
      "text/plain": [
       "interactive(children=(IntSlider(value=0, description='step', max=6), Output()), _dom_classes=('widget-interact…"
      ]
     },
     "metadata": {},
     "output_type": "display_data"
    },
    {
     "data": {
      "text/plain": [
       "<function __main__.pl2(step)>"
      ]
     },
     "execution_count": 14,
     "metadata": {},
     "output_type": "execute_result"
    }
   ],
   "source": [
    "interact(pl2, step=widgets.IntSlider(value=0, min=0, max=len(snapshots)-1))"
   ]
  },
  {
   "cell_type": "markdown",
   "metadata": {
    "collapsed": true,
    "slideshow": {
     "slide_type": "slide"
    }
   },
   "source": [
    "## Сложный пример - MNIST\n",
    "\n",
    "Modified National Institute of Standards and Technology\n",
    "\n",
    "https://www.kaggle.com/c/digit-recognizer\n",
    "\n",
    "  * Рукописные цифры, собранные с сотрудников института стандартов и учащихся, около 250 человек\n",
    "  * 60000 обучающая выборка, 10000 тестовая выборка, собранная от разных групп\n",
    "  * Изображения в градациях серого, 28x28"
   ]
  },
  {
   "cell_type": "code",
   "execution_count": null,
   "metadata": {
    "slideshow": {
     "slide_type": "slide"
    }
   },
   "outputs": [
    {
     "name": "stderr",
     "output_type": "stream",
     "text": [
      "rm: cannot remove '*.pkl': No such file or directory\n"
     ]
    }
   ],
   "source": [
    "!rm *.pkl\n",
    "!wget https://raw.githubusercontent.com/shwars/NeuroWorkshop/master/Data/MNIST/mnist.pkl.gz\n",
    "!gzip -d mnist.pkl.gz"
   ]
  },
  {
   "cell_type": "code",
   "execution_count": 16,
   "metadata": {},
   "outputs": [],
   "source": [
    "with open('mnist.pkl', 'rb') as mnist_pickle:\n",
    "    MNIST = pickle.load(mnist_pickle)"
   ]
  },
  {
   "cell_type": "code",
   "execution_count": 17,
   "metadata": {
    "slideshow": {
     "slide_type": "slide"
    }
   },
   "outputs": [
    {
     "name": "stdout",
     "output_type": "stream",
     "text": [
      "[  0   0 188 255  94   0   0   0   0   0   0   0   0   0   0   0   0   0\n",
      "   0   0   0   0   0   0   0   0   0   0   0 191 250 253  93   0   0   0\n",
      "   0   0   0   0   0   0   0   0   0   0   0   0   0   0]\n",
      "1\n"
     ]
    },
    {
     "data": {
      "image/png": "[encoded data removed]",
      "text/plain": [
       "<Figure size 720x360 with 10 Axes>"
      ]
     },
     "metadata": {
      "needs_background": "light"
     },
     "output_type": "display_data"
    }
   ],
   "source": [
    "print(MNIST['Train']['Features'][0][130:180])\n",
    "print(MNIST['Train']['Labels'][0])\n",
    "features = MNIST['Train']['Features'].astype(np.float32) / 256.0\n",
    "labels = MNIST['Train']['Labels']\n",
    "fig = pylab.figure(figsize=(10,5))\n",
    "for i in range(10):\n",
    "    ax = fig.add_subplot(1,10,i+1)\n",
    "    pylab.imshow(features[i].reshape(28,28))\n",
    "pylab.show()"
   ]
  },
  {
   "cell_type": "code",
   "execution_count": 18,
   "metadata": {
    "slideshow": {
     "slide_type": "slide"
    }
   },
   "outputs": [],
   "source": [
    "def set_mnist_pos_neg(positive_label, negative_label):\n",
    "    positive_indices = [i for i, j in enumerate(MNIST['Train']['Labels']) \n",
    "                          if j == positive_label]\n",
    "    negative_indices = [i for i, j in enumerate(MNIST['Train']['Labels']) \n",
    "                          if j == negative_label]\n",
    "\n",
    "    positive_images = MNIST['Train']['Features'][positive_indices]\n",
    "    negative_images = MNIST['Train']['Features'][negative_indices]\n",
    "\n",
    "    fig = pylab.figure()\n",
    "    ax = fig.add_subplot(1, 2, 1)\n",
    "    pylab.imshow(positive_images[0].reshape(28,28), cmap='gray', interpolation='nearest')\n",
    "    ax.set_xticks([])\n",
    "    ax.set_yticks([])\n",
    "    ax = fig.add_subplot(1, 2, 2)\n",
    "    pylab.imshow(negative_images[0].reshape(28,28), cmap='gray', interpolation='nearest')\n",
    "    ax.set_xticks([])\n",
    "    ax.set_yticks([])\n",
    "    pylab.show()\n",
    "    \n",
    "    return positive_images, negative_images"
   ]
  },
  {
   "cell_type": "code",
   "execution_count": 19,
   "metadata": {
    "slideshow": {
     "slide_type": "slide"
    }
   },
   "outputs": [
    {
     "data": {
      "image/png": "[encoded data removed]",
      "text/plain": [
       "<Figure size 432x288 with 2 Axes>"
      ]
     },
     "metadata": {},
     "output_type": "display_data"
    }
   ],
   "source": [
    "pos1,neg1 = set_mnist_pos_neg(1,0)"
   ]
  },
  {
   "cell_type": "code",
   "execution_count": 20,
   "metadata": {
    "slideshow": {
     "slide_type": "skip"
    }
   },
   "outputs": [],
   "source": [
    "def plotit2(snapshots_mn,step):\n",
    "    fig = pylab.figure(figsize=(10,4))\n",
    "    ax = fig.add_subplot(1, 2, 1)\n",
    "    pylab.imshow(snapshots_mn[step][0].reshape(28, 28), interpolation='nearest')\n",
    "    ax.set_xticks([])\n",
    "    ax.set_yticks([])\n",
    "    pylab.colorbar()\n",
    "    ax = fig.add_subplot(1, 2, 2)\n",
    "    ax.set_ylim([0,1])\n",
    "    pylab.plot(np.arange(len(snapshots_mn[:,1])), snapshots_mn[:,1])\n",
    "    pylab.plot(step, snapshots_mn[step,1], \"bo\")\n",
    "    pylab.show()\n",
    "def pl3(step): plotit2(snapshots_mn,step)\n",
    "def pl4(step): plotit2(snapshots_mn2,step)    "
   ]
  },
  {
   "cell_type": "code",
   "execution_count": 21,
   "metadata": {
    "slideshow": {
     "slide_type": "slide"
    }
   },
   "outputs": [
    {
     "data": {
      "application/vnd.jupyter.widget-view+json": {
       "model_id": "45bc1dbd729c4c30a26ef0e2f6fc4523",
       "version_major": 2,
       "version_minor": 0
      },
      "text/plain": [
       "interactive(children=(IntSlider(value=0, description='step', max=66), Output()), _dom_classes=('widget-interac…"
      ]
     },
     "metadata": {},
     "output_type": "display_data"
    },
    {
     "data": {
      "text/plain": [
       "<function __main__.pl3(step)>"
      ]
     },
     "execution_count": 21,
     "metadata": {},
     "output_type": "execute_result"
    }
   ],
   "source": [
    "snapshots_mn = train_graph(pos1,neg1,1000)    \n",
    "interact(pl3, step=widgets.IntSlider(value=0, min=0, max=len(snapshots_mn) - 1))"
   ]
  },
  {
   "cell_type": "code",
   "execution_count": 22,
   "metadata": {
    "slideshow": {
     "slide_type": "slide"
    }
   },
   "outputs": [
    {
     "data": {
      "image/png": "[encoded data removed]",
      "text/plain": [
       "<Figure size 432x288 with 2 Axes>"
      ]
     },
     "metadata": {},
     "output_type": "display_data"
    }
   ],
   "source": [
    "pos2,neg2 = set_mnist_pos_neg(2,5)"
   ]
  },
  {
   "cell_type": "code",
   "execution_count": 23,
   "metadata": {
    "slideshow": {
     "slide_type": "slide"
    }
   },
   "outputs": [
    {
     "data": {
      "application/vnd.jupyter.widget-view+json": {
       "model_id": "bca1f9fa6b5c4503b7b94f20b659ffac",
       "version_major": 2,
       "version_minor": 0
      },
      "text/plain": [
       "interactive(children=(IntSlider(value=0, description='step', max=66), Output()), _dom_classes=('widget-interac…"
      ]
     },
     "metadata": {},
     "output_type": "display_data"
    },
    {
     "data": {
      "text/plain": [
       "<function __main__.pl4(step)>"
      ]
     },
     "execution_count": 23,
     "metadata": {},
     "output_type": "execute_result"
    }
   ],
   "source": [
    "snapshots_mn2 = train_graph(pos2,neg2,1000)\n",
    "interact(pl4, step=widgets.IntSlider(value=0, min=0, max=len(snapshots_mn2) - 1))"
   ]
  },
  {
   "cell_type": "markdown",
   "metadata": {
    "slideshow": {
     "slide_type": "slide"
    }
   },
   "source": [
    "## В чем разница?\n",
    "\n",
    "Почему-то 1 и 0 разделяются намного лучше, чем 2 и 5. \n",
    "\n",
    "Для понимания причины, используем [метод главных компонент](https://ru.wikipedia.org/wiki/%D0%9C%D0%B5%D1%82%D0%BE%D0%B4_%D0%B3%D0%BB%D0%B0%D0%B2%D0%BD%D1%8B%D1%85_%D0%BA%D0%BE%D0%BC%D0%BF%D0%BE%D0%BD%D0%B5%D0%BD%D1%82).\n",
    "\n",
    "**Идея**: выделяем из множества входных фич (784 шт.) подмножество меньшей размерности, которое позволяет максимально репрезентативно разделить множества примеров."
   ]
  },
  {
   "cell_type": "code",
   "execution_count": 31,
   "metadata": {
    "slideshow": {
     "slide_type": "fragment"
    }
   },
   "outputs": [],
   "source": [
    "from sklearn.decomposition import PCA\n",
    "\n",
    "def pca_analysis(positive_label, negative_label):\n",
    "    positive_images, negative_images = set_mnist_pos_neg(positive_label, negative_label)\n",
    "    M = np.append(positive_images, negative_images, 0)\n",
    "\n",
    "    mypca = PCA(n_components=2)\n",
    "    mypca.fit(M)\n",
    "    \n",
    "    pos_points = mypca.transform(positive_images[:200])\n",
    "    neg_points = mypca.transform(negative_images[:200])\n",
    "\n",
    "    pylab.plot(pos_points[:,0], pos_points[:,1], 'bo')\n",
    "    pylab.plot(neg_points[:,0], neg_points[:,1], 'ro')"
   ]
  },
  {
   "cell_type": "code",
   "execution_count": 32,
   "metadata": {
    "slideshow": {
     "slide_type": "slide"
    }
   },
   "outputs": [
    {
     "data": {
      "image/png": "[encoded data removed]",
      "text/plain": [
       "<Figure size 432x288 with 2 Axes>"
      ]
     },
     "metadata": {},
     "output_type": "display_data"
    },
    {
     "data": {
      "image/png": "[encoded data removed]",
      "text/plain": [
       "<Figure size 432x288 with 1 Axes>"
      ]
     },
     "metadata": {
      "needs_background": "light"
     },
     "output_type": "display_data"
    }
   ],
   "source": [
    "pca_analysis(1,0)"
   ]
  },
  {
   "cell_type": "code",
   "execution_count": 33,
   "metadata": {
    "scrolled": false,
    "slideshow": {
     "slide_type": "slide"
    }
   },
   "outputs": [
    {
     "data": {
      "image/png": "[encoded data removed]",
      "text/plain": [
       "<Figure size 432x288 with 2 Axes>"
      ]
     },
     "metadata": {},
     "output_type": "display_data"
    },
    {
     "data": {
      "image/png": "[encoded data removed]",
      "text/plain": [
       "<Figure size 432x288 with 1 Axes>"
      ]
     },
     "metadata": {
      "needs_background": "light"
     },
     "output_type": "display_data"
    }
   ],
   "source": [
    "pca_analysis(2,5)"
   ]
  },
  {
   "cell_type": "markdown",
   "metadata": {
    "slideshow": {
     "slide_type": "slide"
    }
   },
   "source": [
    "## Выводы\n",
    "\n",
    " * Мы научились создавать простейшую конфигурацию нейросети - однослойный персептрон\n",
    " * При этом такие сети уже могут решать весьма нетривиальные задачи\n",
    " * Тем не менее, однослойный персептрон по сути эквивалентен логистической регрессии, т.е. класс эффективно решаемых задач ограничен\n",
    " * В пространстве состояний однослойный персептрон может разделить два класса объектов гиперплоскостью"
   ]
  },
  {
   "cell_type": "code",
   "execution_count": null,
   "metadata": {},
   "outputs": [],
   "source": []
  }
 ],
 "metadata": {
  "celltoolbar": "Slideshow",
  "kernelspec": {
   "display_name": "Python 3",
   "language": "python",
   "name": "python3"
  },
  "language_info": {
   "codemirror_mode": {
    "name": "ipython",
    "version": 3
   },
   "file_extension": ".py",
   "mimetype": "text/x-python",
   "name": "python",
   "nbconvert_exporter": "python",
   "pygments_lexer": "ipython3",
   "version": "3.8.5"
  },
  "livereveal": {
   "start_slideshow_at": "selected"
  }
 },
 "nbformat": 4,
 "nbformat_minor": 2
}
