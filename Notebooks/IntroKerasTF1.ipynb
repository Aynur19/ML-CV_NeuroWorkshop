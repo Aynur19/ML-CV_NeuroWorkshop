{
  "cells": [
    {
      "metadata": {
        "slideshow": {
          "slide_type": "slide"
        }
      },
      "cell_type": "markdown",
      "source": "# Введение в нейронные сети\n\n## Эпизод 2а: Многослойный персептрон на TensorFlow и Keras\n\nДмитрий Сошников | dmitri@soshnikov.com"
    },
    {
      "metadata": {
        "slideshow": {
          "slide_type": "slide"
        }
      },
      "cell_type": "markdown",
      "source": "## TensorFlow - самый популярный нейросетевой фреймворк\n\n**Основные понятия:**\n\n* `tf.Graph` - граф вычислений, который может вычисляться на GPU\n* `tf.Session` - сессия, в рамках которой проводится вычисление графа\n\n**Компоненты графа:**\n* `tf.Tensor`\n* `tf.Operation`"
    },
    {
      "metadata": {
        "slideshow": {
          "slide_type": "slide"
        }
      },
      "cell_type": "markdown",
      "source": "### Простые тензоры"
    },
    {
      "metadata": {
        "slideshow": {
          "slide_type": "fragment"
        },
        "trusted": true
      },
      "cell_type": "code",
      "source": "import numpy as np\nimport tensorflow as tf\n\na = tf.constant(2.0)\nb = tf.constant(2.0)\nc = a + b\nprint(a,b,c)",
      "execution_count": 1,
      "outputs": [
        {
          "output_type": "stream",
          "text": "Tensor(\"Const:0\", shape=(), dtype=float32) Tensor(\"Const_1:0\", shape=(), dtype=float32) Tensor(\"add:0\", shape=(), dtype=float32)\n",
          "name": "stdout"
        }
      ]
    },
    {
      "metadata": {
        "slideshow": {
          "slide_type": "slide"
        }
      },
      "cell_type": "markdown",
      "source": "### Вычисляем с помощью сессии"
    },
    {
      "metadata": {
        "slideshow": {
          "slide_type": "fragment"
        },
        "trusted": true
      },
      "cell_type": "code",
      "source": "session = tf.Session()\nsession.run(c)",
      "execution_count": 2,
      "outputs": [
        {
          "output_type": "execute_result",
          "execution_count": 2,
          "data": {
            "text/plain": "4.0"
          },
          "metadata": {}
        }
      ]
    },
    {
      "metadata": {
        "trusted": true
      },
      "cell_type": "code",
      "source": "a = tf.constant(2.0)\nb = tf.placeholder(tf.float32)\nc = a + b\nsession.run(c,feed_dict={b:3})",
      "execution_count": 3,
      "outputs": [
        {
          "output_type": "execute_result",
          "execution_count": 3,
          "data": {
            "text/plain": "5.0"
          },
          "metadata": {}
        }
      ]
    },
    {
      "metadata": {
        "slideshow": {
          "slide_type": "skip"
        },
        "trusted": true
      },
      "cell_type": "code",
      "source": "%matplotlib inline\nimport pylab\nfrom matplotlib import gridspec\nfrom sklearn.datasets import make_classification\nimport numpy as np\nimport random",
      "execution_count": 4,
      "outputs": []
    },
    {
      "metadata": {
        "slideshow": {
          "slide_type": "slide"
        }
      },
      "cell_type": "markdown",
      "source": "## Пример\nРассмотрим пример двухмерной задачи классификации на 2 класса. Примером такой задачи может быть классификация опухоли на 2 типа - доброкачественная и злокачественная, в зависимости от её размера и возраста.\n"
    },
    {
      "metadata": {
        "scrolled": false,
        "slideshow": {
          "slide_type": "slide"
        },
        "trusted": true
      },
      "cell_type": "code",
      "source": "np.random.seed(0) # pick the seed for reproducability - change it to explore the effects of random variations\n\nn = 100\nX, Y = make_classification(n_samples = n, n_features=2,\n                           n_redundant=0, n_informative=2, flip_y=0.3,class_sep=1)\nX = X.astype(np.float32)\nY = Y.astype(np.int32)\n\n# Разбиваем на обучающую и тестовые выборки\n# В реальной жизни обучающая - 80% данных\nsplit = [ 30*n//100, (30+45)*n//100 ]\ntrain_x, valid_x, test_x = np.split(X, split)\ntrain_labels, valid_labels, test_labels = np.split(Y, split)",
      "execution_count": 5,
      "outputs": []
    },
    {
      "metadata": {
        "scrolled": false,
        "slideshow": {
          "slide_type": "skip"
        },
        "trusted": true
      },
      "cell_type": "code",
      "source": "def plot_dataset(suptitle, features, labels):\n    # prepare the plot\n    fig, ax = pylab.subplots(1, 1)\n    #pylab.subplots_adjust(bottom=0.2, wspace=0.4)\n    fig.suptitle(suptitle, fontsize = 16)\n    ax.set_xlabel('$x_i[0]$ -- (feature 1)')\n    ax.set_ylabel('$x_i[1]$ -- (feature 2)')\n\n    colors = ['r' if l else 'b' for l in labels]\n    ax.scatter(features[:, 0], features[:, 1], marker='o', c=colors, s=100, alpha = 0.5)\n    fig.show()",
      "execution_count": 6,
      "outputs": []
    },
    {
      "metadata": {
        "scrolled": false,
        "slideshow": {
          "slide_type": "slide"
        },
        "trusted": true
      },
      "cell_type": "code",
      "source": "plot_dataset('Scatterplot of the training data', train_x, train_labels)",
      "execution_count": 7,
      "outputs": [
        {
          "output_type": "stream",
          "text": "/home/nbuser/anaconda3_420/lib/python3.5/site-packages/matplotlib/figure.py:418: UserWarning: matplotlib is currently using a non-GUI backend, so cannot show the figure\n  \"matplotlib is currently using a non-GUI backend, \"\n",
          "name": "stderr"
        },
        {
          "output_type": "display_data",
          "data": {
            "image/png": "[encoded data removed]",
            "text/plain": "<matplotlib.figure.Figure at 0x7fdf60bf3710>"
          },
          "metadata": {}
        }
      ]
    },
    {
      "metadata": {
        "slideshow": {
          "slide_type": "slide"
        }
      },
      "cell_type": "markdown",
      "source": "### Определяем архитектуру сети"
    },
    {
      "metadata": {
        "slideshow": {
          "slide_type": "fragment"
        },
        "trusted": true
      },
      "cell_type": "code",
      "source": "x = tf.placeholder(tf.float32,shape=[None,2])\ny_ = tf.placeholder(tf.float32,shape=[None, 2])\n\nW = tf.Variable(tf.zeros([2,2]))\nb = tf.Variable(tf.zeros([2]))\n\ny = tf.nn.softmax(tf.matmul(x, W) + b)\ncross_entropy = tf.reduce_mean(tf.nn.softmax_cross_entropy_with_logits(labels=y_, logits=y))\n\ntrain_step = tf.train.AdamOptimizer(0.01).minimize(cross_entropy)\n#train_step = tf.train.GradientDescentOptimizer(0.01).minimize(cross_entropy)\n\ncorrect_prediction = tf.equal(tf.argmax(y,1), tf.argmax(y_,1))\naccuracy = tf.reduce_mean(tf.cast(correct_prediction, tf.float32))",
      "execution_count": 8,
      "outputs": []
    },
    {
      "metadata": {
        "slideshow": {
          "slide_type": "skip"
        },
        "trusted": true
      },
      "cell_type": "code",
      "source": "train_labels_onehot=np.eye(2)[train_labels]\ntest_labels_onehot=np.eye(2)[test_labels]",
      "execution_count": 9,
      "outputs": []
    },
    {
      "metadata": {
        "slideshow": {
          "slide_type": "slide"
        },
        "trusted": true
      },
      "cell_type": "code",
      "source": "#Create the session\nsess = tf.InteractiveSession()\n#Initialize the variables\ntf.global_variables_initializer().run()\n\n#Set the epoch(number of iterations)\nepoch = 1000\n\n#Train the model\nfor step in range(epoch):\n    sess.run([train_step,cross_entropy], feed_dict={x: train_x, y_:train_labels_onehot})",
      "execution_count": 10,
      "outputs": []
    },
    {
      "metadata": {
        "trusted": true
      },
      "cell_type": "code",
      "source": "sess.run(accuracy,feed_dict={x:test_x, y_:test_labels_onehot})",
      "execution_count": 11,
      "outputs": [
        {
          "output_type": "execute_result",
          "execution_count": 11,
          "data": {
            "text/plain": "0.76"
          },
          "metadata": {}
        }
      ]
    },
    {
      "metadata": {
        "trusted": true
      },
      "cell_type": "code",
      "source": "%matplotlib inline\nimport matplotlib.pyplot as plt\n\n#Initialize the variables\ntf.global_variables_initializer().run()\n\n#Set the epoch(number of iterations)\nepoch = 100\n\nacc=[]\n\n#Train the model\nfor step in range(epoch):\n    for _ in range(2):\n        perm = np.random.permutation(len(train_x))\n        train_x = train_x[perm]\n        train_labels_onehot = train_labels_onehot[perm]\n        _,_ = sess.run([train_step,cross_entropy], feed_dict={x: train_x, y_:train_labels_onehot})\n    tr_acc = sess.run(accuracy, feed_dict={x: train_x, y_:train_labels_onehot})\n    val_acc = sess.run(accuracy,feed_dict={x:test_x, y_: test_labels_onehot})\n    acc.append([tr_acc,val_acc])\n    \nacc = np.array(acc)\n\nplt.plot(acc[:,0])\nplt.plot(acc[:,1])\nplt.show()",
      "execution_count": 12,
      "outputs": [
        {
          "output_type": "display_data",
          "data": {
            "image/png": "[encoded data removed]",
            "text/plain": "<matplotlib.figure.Figure at 0x7fdf60b06dd8>"
          },
          "metadata": {}
        }
      ]
    },
    {
      "metadata": {},
      "cell_type": "markdown",
      "source": "## Выводы\n\n* Tensorflow позволяет более гибко определять, где происходят вычисления\n* Описание сетей в базовом Tensorflow очень низкоуровневое\n* Есть более удобные средства для работы с данными (`td.Data`), со слоями (`tf.layers`)\n* Для массового использования нейросетей Google рекомендует **Keras**"
    },
    {
      "metadata": {},
      "cell_type": "markdown",
      "source": "## Keras - упрощение и унификация\n### Deep Learning for Humans\n\n* Работает поверх Tensorflow, CNTK или Theano\n* Оперирует нейросетями на уровне слоёв\n* Включает упрощённый \"обучатель\", средства работы с типовыми данными (картинками, ...)\n* Много готовых примеров\n* Functional API vs. Sequential API - очень похоже на CNTK!\n\nКнижка от создателя Keras: [Deep Learning with Python](https://www.manning.com/books/deep-learning-with-python)"
    },
    {
      "metadata": {
        "trusted": true
      },
      "cell_type": "code",
      "source": "import keras\n\nmodel = keras.models.Sequential()\nmodel.add(keras.layers.Dense(16, input_shape=(2,)))\nmodel.add(keras.layers.Activation(\"sigmoid\"))\nmodel.add(keras.layers.Dense(2))\nmodel.add(keras.layers.Activation(\"softmax\"))\nmodel.compile(optimizer=\"adam\", loss=\"categorical_crossentropy\", metrics=[\"accuracy\"])\nmodel.summary()\nmodel.fit(train_x, train_labels_onehot, epochs=13, batch_size=1, verbose=1)\nloss, accuracy = model.evaluate(test_x, test_labels_onehot, verbose=1)\nprint(\"Final accuracy = %f\" % accuracy)",
      "execution_count": 13,
      "outputs": [
        {
          "output_type": "stream",
          "text": "/home/nbuser/anaconda3_420/lib/python3.5/site-packages/h5py/__init__.py:36: FutureWarning: Conversion of the second argument of issubdtype from `float` to `np.floating` is deprecated. In future, it will be treated as `np.float64 == np.dtype(float).type`.\n  from ._conv import register_converters as _register_converters\nUsing TensorFlow backend.\n",
          "name": "stderr"
        },
        {
          "output_type": "stream",
          "text": "_________________________________________________________________\nLayer (type)                 Output Shape              Param #   \n=================================================================\ndense_1 (Dense)              (None, 16)                48        \n_________________________________________________________________\nactivation_1 (Activation)    (None, 16)                0         \n_________________________________________________________________\ndense_2 (Dense)              (None, 2)                 34        \n_________________________________________________________________\nactivation_2 (Activation)    (None, 2)                 0         \n=================================================================\nTotal params: 82\nTrainable params: 82\nNon-trainable params: 0\n_________________________________________________________________\nEpoch 1/13\n30/30 [==============================] - 0s - loss: 0.8097 - acc: 0.5000        \nEpoch 2/13\n30/30 [==============================] - 0s - loss: 0.7528 - acc: 0.5000         \nEpoch 3/13\n30/30 [==============================] - 0s - loss: 0.6964 - acc: 0.5000     \nEpoch 4/13\n30/30 [==============================] - 0s - loss: 0.6630 - acc: 0.5000         \nEpoch 5/13\n30/30 [==============================] - 0s - loss: 0.6341 - acc: 0.5667         \nEpoch 6/13\n30/30 [==============================] - 0s - loss: 0.6168 - acc: 0.6000         \nEpoch 7/13\n30/30 [==============================] - 0s - loss: 0.5941 - acc: 0.8000         \nEpoch 8/13\n30/30 [==============================] - 0s - loss: 0.5797 - acc: 0.8000     \nEpoch 9/13\n30/30 [==============================] - 0s - loss: 0.5656 - acc: 0.8333     \nEpoch 10/13\n30/30 [==============================] - 0s - loss: 0.5514 - acc: 0.8667     \nEpoch 11/13\n30/30 [==============================] - 0s - loss: 0.5394 - acc: 0.8667     \nEpoch 12/13\n30/30 [==============================] - 0s - loss: 0.5262 - acc: 0.8667     \nEpoch 13/13\n30/30 [==============================] - 0s - loss: 0.5148 - acc: 0.8667         \n25/25 [==============================] - 0s\nFinal accuracy = 0.720000\n",
          "name": "stdout"
        }
      ]
    },
    {
      "metadata": {},
      "cell_type": "markdown",
      "source": "### Выводы\n\n* Для типовых задач имеет смысл использовать Keras (с Tensorflow backend)\n* CNTK хорош для обработки последовательностей/текста, но меньше примеров\n* Для исследований подходит Tensorflow (как наиболее гибкий), но иногда удаётся отделаться сочетанием TF+Keras\n* Также стоит посмотреть на PyTorch, это \"восходящая звезда\""
    },
    {
      "metadata": {
        "trusted": true
      },
      "cell_type": "code",
      "source": "",
      "execution_count": null,
      "outputs": []
    }
  ],
  "metadata": {
    "celltoolbar": "Slideshow",
    "kernelspec": {
      "name": "python3",
      "display_name": "Python 3",
      "language": "python"
    },
    "language_info": {
      "mimetype": "text/x-python",
      "nbconvert_exporter": "python",
      "name": "python",
      "file_extension": ".py",
      "version": "3.5.4",
      "pygments_lexer": "ipython3",
      "codemirror_mode": {
        "version": 3,
        "name": "ipython"
      }
    },
    "livereveal": {
      "start_slideshow_at": "selected"
    }
  },
  "nbformat": 4,
  "nbformat_minor": 1
}